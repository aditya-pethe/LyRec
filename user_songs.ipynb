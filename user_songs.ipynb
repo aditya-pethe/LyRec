{
 "metadata": {
  "language_info": {
   "codemirror_mode": {
    "name": "ipython",
    "version": 3
   },
   "file_extension": ".py",
   "mimetype": "text/x-python",
   "name": "python",
   "nbconvert_exporter": "python",
   "pygments_lexer": "ipython3",
   "version": "3.8.5-final"
  },
  "orig_nbformat": 2,
  "kernelspec": {
   "name": "python385jvsc74a57bd04bba1d32cad56bd564e8db7f54bce5a3582261770c0fd88a009216e68a1efe96",
   "display_name": "Python 3.8.5 64-bit (conda)"
  }
 },
 "nbformat": 4,
 "nbformat_minor": 2,
 "cells": [
  {
   "cell_type": "code",
   "execution_count": 1,
   "metadata": {},
   "outputs": [],
   "source": [
    "import pandas as pd\n",
    "import numpy as np"
   ]
  },
  {
   "source": [
    "### Read in dataframe containing user_id, song_id, and listen counts"
   ],
   "cell_type": "markdown",
   "metadata": {}
  },
  {
   "cell_type": "code",
   "execution_count": 233,
   "metadata": {},
   "outputs": [
    {
     "output_type": "execute_result",
     "data": {
      "text/plain": [
       "                                           user_id             song_id  count\n",
       "0         b80344d063b5ccb3212f76538f3d9e43d87dca9e  SOAKIMP12A8C130995      1\n",
       "1         b80344d063b5ccb3212f76538f3d9e43d87dca9e  SOAPDEY12A81C210A9      1\n",
       "2         b80344d063b5ccb3212f76538f3d9e43d87dca9e  SOBBMDR12A8C13253B      2\n",
       "3         b80344d063b5ccb3212f76538f3d9e43d87dca9e  SOBFNSP12AF72A0E22      1\n",
       "4         b80344d063b5ccb3212f76538f3d9e43d87dca9e  SOBFOVM12A58A7D494      1\n",
       "...                                            ...                 ...    ...\n",
       "48373581  b7815dbb206eb2831ce0fe040d0aa537e2e800f7  SOUHHHH12AF729E4AF      2\n",
       "48373582  b7815dbb206eb2831ce0fe040d0aa537e2e800f7  SOUJVIT12A8C1451C1      1\n",
       "48373583  b7815dbb206eb2831ce0fe040d0aa537e2e800f7  SOUSMXX12AB0185C24      1\n",
       "48373584  b7815dbb206eb2831ce0fe040d0aa537e2e800f7  SOWYSKH12AF72A303A      3\n",
       "48373585  b7815dbb206eb2831ce0fe040d0aa537e2e800f7  SOYYFLV12A58A7A88F      1\n",
       "\n",
       "[48373586 rows x 3 columns]"
      ],
      "text/html": "<div>\n<style scoped>\n    .dataframe tbody tr th:only-of-type {\n        vertical-align: middle;\n    }\n\n    .dataframe tbody tr th {\n        vertical-align: top;\n    }\n\n    .dataframe thead th {\n        text-align: right;\n    }\n</style>\n<table border=\"1\" class=\"dataframe\">\n  <thead>\n    <tr style=\"text-align: right;\">\n      <th></th>\n      <th>user_id</th>\n      <th>song_id</th>\n      <th>count</th>\n    </tr>\n  </thead>\n  <tbody>\n    <tr>\n      <th>0</th>\n      <td>b80344d063b5ccb3212f76538f3d9e43d87dca9e</td>\n      <td>SOAKIMP12A8C130995</td>\n      <td>1</td>\n    </tr>\n    <tr>\n      <th>1</th>\n      <td>b80344d063b5ccb3212f76538f3d9e43d87dca9e</td>\n      <td>SOAPDEY12A81C210A9</td>\n      <td>1</td>\n    </tr>\n    <tr>\n      <th>2</th>\n      <td>b80344d063b5ccb3212f76538f3d9e43d87dca9e</td>\n      <td>SOBBMDR12A8C13253B</td>\n      <td>2</td>\n    </tr>\n    <tr>\n      <th>3</th>\n      <td>b80344d063b5ccb3212f76538f3d9e43d87dca9e</td>\n      <td>SOBFNSP12AF72A0E22</td>\n      <td>1</td>\n    </tr>\n    <tr>\n      <th>4</th>\n      <td>b80344d063b5ccb3212f76538f3d9e43d87dca9e</td>\n      <td>SOBFOVM12A58A7D494</td>\n      <td>1</td>\n    </tr>\n    <tr>\n      <th>...</th>\n      <td>...</td>\n      <td>...</td>\n      <td>...</td>\n    </tr>\n    <tr>\n      <th>48373581</th>\n      <td>b7815dbb206eb2831ce0fe040d0aa537e2e800f7</td>\n      <td>SOUHHHH12AF729E4AF</td>\n      <td>2</td>\n    </tr>\n    <tr>\n      <th>48373582</th>\n      <td>b7815dbb206eb2831ce0fe040d0aa537e2e800f7</td>\n      <td>SOUJVIT12A8C1451C1</td>\n      <td>1</td>\n    </tr>\n    <tr>\n      <th>48373583</th>\n      <td>b7815dbb206eb2831ce0fe040d0aa537e2e800f7</td>\n      <td>SOUSMXX12AB0185C24</td>\n      <td>1</td>\n    </tr>\n    <tr>\n      <th>48373584</th>\n      <td>b7815dbb206eb2831ce0fe040d0aa537e2e800f7</td>\n      <td>SOWYSKH12AF72A303A</td>\n      <td>3</td>\n    </tr>\n    <tr>\n      <th>48373585</th>\n      <td>b7815dbb206eb2831ce0fe040d0aa537e2e800f7</td>\n      <td>SOYYFLV12A58A7A88F</td>\n      <td>1</td>\n    </tr>\n  </tbody>\n</table>\n<p>48373586 rows × 3 columns</p>\n</div>"
     },
     "metadata": {},
     "execution_count": 233
    }
   ],
   "source": [
    "filename = 'data/train_triplets.txt'\n",
    "id_df = pd.read_csv(filename, delimiter='\\t',names=['user_id','song_id','count'])\n",
    "id_df"
   ]
  },
  {
   "cell_type": "code",
   "execution_count": 119,
   "metadata": {},
   "outputs": [
    {
     "output_type": "stream",
     "name": "stdout",
     "text": [
      "384546\n"
     ]
    }
   ],
   "source": [
    "print(id_df.song_id.unique().size)"
   ]
  },
  {
   "cell_type": "code",
   "execution_count": 3,
   "metadata": {},
   "outputs": [
    {
     "output_type": "execute_result",
     "data": {
      "text/plain": [
       "Index(['user_id', 'song_id', 'count'], dtype='object')"
      ]
     },
     "metadata": {},
     "execution_count": 3
    }
   ],
   "source": [
    "id_df.columns"
   ]
  },
  {
   "source": [
    "### Read in dataframe linking song_id to song titles"
   ],
   "cell_type": "markdown",
   "metadata": {}
  },
  {
   "cell_type": "code",
   "execution_count": 231,
   "metadata": {},
   "outputs": [
    {
     "output_type": "stream",
     "name": "stderr",
     "text": [
      "<ipython-input-231-a6871d1b8ef7>:2: ParserWarning: Falling back to the 'python' engine because the 'c' engine does not support regex separators (separators > 1 char and different from '\\s+' are interpreted as regex); you can avoid this warning by specifying engine='python'.\n  tracks_df = pd.read_csv(track_file,delimiter='<SEP>',names=['track_id','song_id','artist','song'])\n"
     ]
    },
    {
     "output_type": "execute_result",
     "data": {
      "text/plain": [
       "                  track_id             song_id            artist  \\\n",
       "0       TRMMMYQ128F932D901  SOQMMHC12AB0180CB8  Faster Pussy cat   \n",
       "1       TRMMMKD128F425225D  SOVFVAK12A8C1350D9  Karkkiautomaatti   \n",
       "2       TRMMMRX128F93187D9  SOGTUKN12AB017F4F1    Hudson Mohawke   \n",
       "3       TRMMMCH128F425532C  SOBNYVR12A8C13558C       Yerba Brava   \n",
       "4       TRMMMWA128F426B589  SOHSBXH12A8C13B0DF        Der Mystic   \n",
       "...                    ...                 ...               ...   \n",
       "999995  TRYYYUS12903CD2DF0  SOTXAME12AB018F136      Kiko Navarro   \n",
       "999996  TRYYYJO128F426DA37  SOXQYIQ12A8C137FBB     Kuldeep Manak   \n",
       "999997  TRYYYMG128F4260ECA  SOHODZI12A8C137BB3    Gabriel Le Mar   \n",
       "999998  TRYYYDJ128F9310A21  SOLXGOR12A81C21EB7             Elude   \n",
       "999999  TRYYYVU12903CD01E3  SOWXJXQ12AB0189F43             Texta   \n",
       "\n",
       "                                        song  \n",
       "0                               Silent Night  \n",
       "1                                Tanssi vaan  \n",
       "2                          No One Could Ever  \n",
       "3                             Si Vos QuerÃ©s  \n",
       "4                           Tangle Of Aspens  \n",
       "...                                      ...  \n",
       "999995                       O Samba Da Vida  \n",
       "999996                          Jago Chhadeo  \n",
       "999997                               Novemba  \n",
       "999998                               Faraday  \n",
       "999999  Fernweh feat. Sektion KuchikÃ¤schtli  \n",
       "\n",
       "[1000000 rows x 4 columns]"
      ],
      "text/html": "<div>\n<style scoped>\n    .dataframe tbody tr th:only-of-type {\n        vertical-align: middle;\n    }\n\n    .dataframe tbody tr th {\n        vertical-align: top;\n    }\n\n    .dataframe thead th {\n        text-align: right;\n    }\n</style>\n<table border=\"1\" class=\"dataframe\">\n  <thead>\n    <tr style=\"text-align: right;\">\n      <th></th>\n      <th>track_id</th>\n      <th>song_id</th>\n      <th>artist</th>\n      <th>song</th>\n    </tr>\n  </thead>\n  <tbody>\n    <tr>\n      <th>0</th>\n      <td>TRMMMYQ128F932D901</td>\n      <td>SOQMMHC12AB0180CB8</td>\n      <td>Faster Pussy cat</td>\n      <td>Silent Night</td>\n    </tr>\n    <tr>\n      <th>1</th>\n      <td>TRMMMKD128F425225D</td>\n      <td>SOVFVAK12A8C1350D9</td>\n      <td>Karkkiautomaatti</td>\n      <td>Tanssi vaan</td>\n    </tr>\n    <tr>\n      <th>2</th>\n      <td>TRMMMRX128F93187D9</td>\n      <td>SOGTUKN12AB017F4F1</td>\n      <td>Hudson Mohawke</td>\n      <td>No One Could Ever</td>\n    </tr>\n    <tr>\n      <th>3</th>\n      <td>TRMMMCH128F425532C</td>\n      <td>SOBNYVR12A8C13558C</td>\n      <td>Yerba Brava</td>\n      <td>Si Vos QuerÃ©s</td>\n    </tr>\n    <tr>\n      <th>4</th>\n      <td>TRMMMWA128F426B589</td>\n      <td>SOHSBXH12A8C13B0DF</td>\n      <td>Der Mystic</td>\n      <td>Tangle Of Aspens</td>\n    </tr>\n    <tr>\n      <th>...</th>\n      <td>...</td>\n      <td>...</td>\n      <td>...</td>\n      <td>...</td>\n    </tr>\n    <tr>\n      <th>999995</th>\n      <td>TRYYYUS12903CD2DF0</td>\n      <td>SOTXAME12AB018F136</td>\n      <td>Kiko Navarro</td>\n      <td>O Samba Da Vida</td>\n    </tr>\n    <tr>\n      <th>999996</th>\n      <td>TRYYYJO128F426DA37</td>\n      <td>SOXQYIQ12A8C137FBB</td>\n      <td>Kuldeep Manak</td>\n      <td>Jago Chhadeo</td>\n    </tr>\n    <tr>\n      <th>999997</th>\n      <td>TRYYYMG128F4260ECA</td>\n      <td>SOHODZI12A8C137BB3</td>\n      <td>Gabriel Le Mar</td>\n      <td>Novemba</td>\n    </tr>\n    <tr>\n      <th>999998</th>\n      <td>TRYYYDJ128F9310A21</td>\n      <td>SOLXGOR12A81C21EB7</td>\n      <td>Elude</td>\n      <td>Faraday</td>\n    </tr>\n    <tr>\n      <th>999999</th>\n      <td>TRYYYVU12903CD01E3</td>\n      <td>SOWXJXQ12AB0189F43</td>\n      <td>Texta</td>\n      <td>Fernweh feat. Sektion KuchikÃ¤schtli</td>\n    </tr>\n  </tbody>\n</table>\n<p>1000000 rows × 4 columns</p>\n</div>"
     },
     "metadata": {},
     "execution_count": 231
    }
   ],
   "source": [
    "track_file = 'data/unique_tracks.txt'\n",
    "tracks_df = pd.read_csv(track_file,delimiter='<SEP>',names=['track_id','song_id','artist','song'])\n",
    "tracks_df"
   ]
  },
  {
   "cell_type": "code",
   "execution_count": 120,
   "metadata": {},
   "outputs": [
    {
     "output_type": "execute_result",
     "data": {
      "text/plain": [
       "999056"
      ]
     },
     "metadata": {},
     "execution_count": 120
    }
   ],
   "source": [
    "tracks_df.song_id.unique().size"
   ]
  },
  {
   "cell_type": "code",
   "execution_count": 5,
   "metadata": {},
   "outputs": [
    {
     "output_type": "execute_result",
     "data": {
      "text/plain": [
       "Index(['track_id', 'song_id', 'artist', 'song'], dtype='object')"
      ]
     },
     "metadata": {},
     "execution_count": 5
    }
   ],
   "source": [
    "tracks_df.columns"
   ]
  },
  {
   "cell_type": "code",
   "execution_count": 229,
   "metadata": {},
   "outputs": [
    {
     "output_type": "execute_result",
     "data": {
      "text/plain": [
       "                    track_id             song_id            artist  \\\n",
       "0         TRMMMYQ128F932D901  SOQMMHC12AB0180CB8  Faster Pussy cat   \n",
       "1         TRMMMYQ128F932D901  SOQMMHC12AB0180CB8  Faster Pussy cat   \n",
       "2         TRMMMYQ128F932D901  SOQMMHC12AB0180CB8  Faster Pussy cat   \n",
       "3         TRMMMCH128F425532C  SOBNYVR12A8C13558C       Yerba Brava   \n",
       "4         TRMMMCH128F425532C  SOBNYVR12A8C13558C       Yerba Brava   \n",
       "...                      ...                 ...               ...   \n",
       "49664523  TRYYYZM128F428E804  SOBODSE12A8C13EBD6           SKYCLAD   \n",
       "49664524  TRYYYZM128F428E804  SOBODSE12A8C13EBD6           SKYCLAD   \n",
       "49664525  TRYYYON128F932585A  SOWCNSN12AB018070F        Loose Shus   \n",
       "49664526  TRYYYON128F932585A  SOWCNSN12AB018070F        Loose Shus   \n",
       "49664527  TRYYYVU12903CD01E3  SOWXJXQ12AB0189F43             Texta   \n",
       "\n",
       "                                          song  \\\n",
       "0                                 Silent Night   \n",
       "1                                 Silent Night   \n",
       "2                                 Silent Night   \n",
       "3                               Si Vos QuerÃ©s   \n",
       "4                               Si Vos QuerÃ©s   \n",
       "...                                        ...   \n",
       "49664523                     Inequality Street   \n",
       "49664524                     Inequality Street   \n",
       "49664525              Taurus (Keenhouse Remix)   \n",
       "49664526              Taurus (Keenhouse Remix)   \n",
       "49664527  Fernweh feat. Sektion KuchikÃ¤schtli   \n",
       "\n",
       "                                           user_id  count  \n",
       "0         3a05343210b5e4b6308193bcd00242d326bd9b36      1  \n",
       "1         93f24a7eb6742300414e7b8d4fefddf3f90c3db7      6  \n",
       "2         53f8a04762e391eb0efb812b7352e4d598a48b2c      1  \n",
       "3         baf8f44f7f23ca9671be11ff296df32a09f4406d      1  \n",
       "4         c59ecc2ed2f13812c69a65c02d9847d255fa8ecf      1  \n",
       "...                                            ...    ...  \n",
       "49664523  9ab8ef65e878846e1e2b4e1109ffa56b1a2c09bb      1  \n",
       "49664524  56d29a12dbd87b619256e349d967fef6e1a46698      1  \n",
       "49664525  aeb227fce19da4e5a1d88f53df2ac0eb3ede4f74      1  \n",
       "49664526  95061cbe060d2500ce8af2bc71bcd9a6512352ba      2  \n",
       "49664527  73761dab0fa190edb18a2b21c4cfcf76d7cd8474      1  \n",
       "\n",
       "[49664528 rows x 6 columns]"
      ],
      "text/html": "<div>\n<style scoped>\n    .dataframe tbody tr th:only-of-type {\n        vertical-align: middle;\n    }\n\n    .dataframe tbody tr th {\n        vertical-align: top;\n    }\n\n    .dataframe thead th {\n        text-align: right;\n    }\n</style>\n<table border=\"1\" class=\"dataframe\">\n  <thead>\n    <tr style=\"text-align: right;\">\n      <th></th>\n      <th>track_id</th>\n      <th>song_id</th>\n      <th>artist</th>\n      <th>song</th>\n      <th>user_id</th>\n      <th>count</th>\n    </tr>\n  </thead>\n  <tbody>\n    <tr>\n      <th>0</th>\n      <td>TRMMMYQ128F932D901</td>\n      <td>SOQMMHC12AB0180CB8</td>\n      <td>Faster Pussy cat</td>\n      <td>Silent Night</td>\n      <td>3a05343210b5e4b6308193bcd00242d326bd9b36</td>\n      <td>1</td>\n    </tr>\n    <tr>\n      <th>1</th>\n      <td>TRMMMYQ128F932D901</td>\n      <td>SOQMMHC12AB0180CB8</td>\n      <td>Faster Pussy cat</td>\n      <td>Silent Night</td>\n      <td>93f24a7eb6742300414e7b8d4fefddf3f90c3db7</td>\n      <td>6</td>\n    </tr>\n    <tr>\n      <th>2</th>\n      <td>TRMMMYQ128F932D901</td>\n      <td>SOQMMHC12AB0180CB8</td>\n      <td>Faster Pussy cat</td>\n      <td>Silent Night</td>\n      <td>53f8a04762e391eb0efb812b7352e4d598a48b2c</td>\n      <td>1</td>\n    </tr>\n    <tr>\n      <th>3</th>\n      <td>TRMMMCH128F425532C</td>\n      <td>SOBNYVR12A8C13558C</td>\n      <td>Yerba Brava</td>\n      <td>Si Vos QuerÃ©s</td>\n      <td>baf8f44f7f23ca9671be11ff296df32a09f4406d</td>\n      <td>1</td>\n    </tr>\n    <tr>\n      <th>4</th>\n      <td>TRMMMCH128F425532C</td>\n      <td>SOBNYVR12A8C13558C</td>\n      <td>Yerba Brava</td>\n      <td>Si Vos QuerÃ©s</td>\n      <td>c59ecc2ed2f13812c69a65c02d9847d255fa8ecf</td>\n      <td>1</td>\n    </tr>\n    <tr>\n      <th>...</th>\n      <td>...</td>\n      <td>...</td>\n      <td>...</td>\n      <td>...</td>\n      <td>...</td>\n      <td>...</td>\n    </tr>\n    <tr>\n      <th>49664523</th>\n      <td>TRYYYZM128F428E804</td>\n      <td>SOBODSE12A8C13EBD6</td>\n      <td>SKYCLAD</td>\n      <td>Inequality Street</td>\n      <td>9ab8ef65e878846e1e2b4e1109ffa56b1a2c09bb</td>\n      <td>1</td>\n    </tr>\n    <tr>\n      <th>49664524</th>\n      <td>TRYYYZM128F428E804</td>\n      <td>SOBODSE12A8C13EBD6</td>\n      <td>SKYCLAD</td>\n      <td>Inequality Street</td>\n      <td>56d29a12dbd87b619256e349d967fef6e1a46698</td>\n      <td>1</td>\n    </tr>\n    <tr>\n      <th>49664525</th>\n      <td>TRYYYON128F932585A</td>\n      <td>SOWCNSN12AB018070F</td>\n      <td>Loose Shus</td>\n      <td>Taurus (Keenhouse Remix)</td>\n      <td>aeb227fce19da4e5a1d88f53df2ac0eb3ede4f74</td>\n      <td>1</td>\n    </tr>\n    <tr>\n      <th>49664526</th>\n      <td>TRYYYON128F932585A</td>\n      <td>SOWCNSN12AB018070F</td>\n      <td>Loose Shus</td>\n      <td>Taurus (Keenhouse Remix)</td>\n      <td>95061cbe060d2500ce8af2bc71bcd9a6512352ba</td>\n      <td>2</td>\n    </tr>\n    <tr>\n      <th>49664527</th>\n      <td>TRYYYVU12903CD01E3</td>\n      <td>SOWXJXQ12AB0189F43</td>\n      <td>Texta</td>\n      <td>Fernweh feat. Sektion KuchikÃ¤schtli</td>\n      <td>73761dab0fa190edb18a2b21c4cfcf76d7cd8474</td>\n      <td>1</td>\n    </tr>\n  </tbody>\n</table>\n<p>49664528 rows × 6 columns</p>\n</div>"
     },
     "metadata": {},
     "execution_count": 229
    }
   ],
   "source": [
    "df = pd.merge(tracks_df, id_df, how='inner', on='song_id')\n",
    "df"
   ]
  },
  {
   "cell_type": "code",
   "execution_count": 164,
   "metadata": {},
   "outputs": [
    {
     "output_type": "execute_result",
     "data": {
      "text/plain": [
       "306814"
      ]
     },
     "metadata": {},
     "execution_count": 164
    }
   ],
   "source": [
    "df.song.unique().size"
   ]
  },
  {
   "cell_type": "code",
   "execution_count": 22,
   "metadata": {},
   "outputs": [
    {
     "output_type": "execute_result",
     "data": {
      "text/plain": [
       "Index(['user_id', 'song_id', 'count', 'track_id', 'artist', 'song'], dtype='object')"
      ]
     },
     "metadata": {},
     "execution_count": 22
    }
   ],
   "source": [
    "df.columns"
   ]
  },
  {
   "cell_type": "code",
   "execution_count": 230,
   "metadata": {},
   "outputs": [
    {
     "output_type": "execute_result",
     "data": {
      "text/plain": [
       "             Band                                             Lyrics  \\\n",
       "0    Elijah Blake  No, no\\r\\nI ain't ever trapped out the bando\\r...   \n",
       "1    Elijah Blake  The drinks go down and smoke goes up, I feel m...   \n",
       "2    Elijah Blake  She don't live on planet Earth no more\\r\\nShe ...   \n",
       "3    Elijah Blake  Trippin' off that Grigio, mobbin', lights low\\...   \n",
       "4    Elijah Blake  I see a midnight panther, so gallant and so br...   \n",
       "..            ...                                                ...   \n",
       "994  Judy Garland  Day in, day out\\r\\nThe same old hoodoo follows...   \n",
       "995  Judy Garland  When a dove is in love\\r\\nWith a doll of a dov...   \n",
       "996  Judy Garland  You've got me where you want me\\r\\nAnd I hope ...   \n",
       "997  Judy Garland  If you're ever in a jam, here I am \\r\\nIf you'...   \n",
       "998  Judy Garland  Judy\\r\\nForget your troubles\\r\\n\\r\\nBarbra\\r\\n...   \n",
       "\n",
       "                                                Song  \n",
       "0                                           Everyday  \n",
       "1                                   Live Till We Die  \n",
       "2                                      The Otherside  \n",
       "3                                              Pinot  \n",
       "4                                 Shadows & Diamonds  \n",
       "..                                               ...  \n",
       "994                                  Day In, Day Out  \n",
       "995  I Could Go on Singin' ('Til the Cows Come Home)  \n",
       "996                     You Got Me Where You Want Me  \n",
       "997                              Friendship (Medley)  \n",
       "998            Get Happy - Happy Days Are Here Again  \n",
       "\n",
       "[999 rows x 3 columns]"
      ],
      "text/html": "<div>\n<style scoped>\n    .dataframe tbody tr th:only-of-type {\n        vertical-align: middle;\n    }\n\n    .dataframe tbody tr th {\n        vertical-align: top;\n    }\n\n    .dataframe thead th {\n        text-align: right;\n    }\n</style>\n<table border=\"1\" class=\"dataframe\">\n  <thead>\n    <tr style=\"text-align: right;\">\n      <th></th>\n      <th>Band</th>\n      <th>Lyrics</th>\n      <th>Song</th>\n    </tr>\n  </thead>\n  <tbody>\n    <tr>\n      <th>0</th>\n      <td>Elijah Blake</td>\n      <td>No, no\\r\\nI ain't ever trapped out the bando\\r...</td>\n      <td>Everyday</td>\n    </tr>\n    <tr>\n      <th>1</th>\n      <td>Elijah Blake</td>\n      <td>The drinks go down and smoke goes up, I feel m...</td>\n      <td>Live Till We Die</td>\n    </tr>\n    <tr>\n      <th>2</th>\n      <td>Elijah Blake</td>\n      <td>She don't live on planet Earth no more\\r\\nShe ...</td>\n      <td>The Otherside</td>\n    </tr>\n    <tr>\n      <th>3</th>\n      <td>Elijah Blake</td>\n      <td>Trippin' off that Grigio, mobbin', lights low\\...</td>\n      <td>Pinot</td>\n    </tr>\n    <tr>\n      <th>4</th>\n      <td>Elijah Blake</td>\n      <td>I see a midnight panther, so gallant and so br...</td>\n      <td>Shadows &amp; Diamonds</td>\n    </tr>\n    <tr>\n      <th>...</th>\n      <td>...</td>\n      <td>...</td>\n      <td>...</td>\n    </tr>\n    <tr>\n      <th>994</th>\n      <td>Judy Garland</td>\n      <td>Day in, day out\\r\\nThe same old hoodoo follows...</td>\n      <td>Day In, Day Out</td>\n    </tr>\n    <tr>\n      <th>995</th>\n      <td>Judy Garland</td>\n      <td>When a dove is in love\\r\\nWith a doll of a dov...</td>\n      <td>I Could Go on Singin' ('Til the Cows Come Home)</td>\n    </tr>\n    <tr>\n      <th>996</th>\n      <td>Judy Garland</td>\n      <td>You've got me where you want me\\r\\nAnd I hope ...</td>\n      <td>You Got Me Where You Want Me</td>\n    </tr>\n    <tr>\n      <th>997</th>\n      <td>Judy Garland</td>\n      <td>If you're ever in a jam, here I am \\r\\nIf you'...</td>\n      <td>Friendship (Medley)</td>\n    </tr>\n    <tr>\n      <th>998</th>\n      <td>Judy Garland</td>\n      <td>Judy\\r\\nForget your troubles\\r\\n\\r\\nBarbra\\r\\n...</td>\n      <td>Get Happy - Happy Days Are Here Again</td>\n    </tr>\n  </tbody>\n</table>\n<p>999 rows × 3 columns</p>\n</div>"
     },
     "metadata": {},
     "execution_count": 230
    }
   ],
   "source": [
    "ourfile = 'data/first1000.csv'\n",
    "our_df = pd.read_csv(ourfile)\n",
    "our_df"
   ]
  },
  {
   "cell_type": "code",
   "execution_count": 24,
   "metadata": {},
   "outputs": [
    {
     "output_type": "execute_result",
     "data": {
      "text/plain": [
       "Index(['Band', 'Lyrics', 'Song'], dtype='object')"
      ]
     },
     "metadata": {},
     "execution_count": 24
    }
   ],
   "source": [
    "our_df.columns"
   ]
  },
  {
   "cell_type": "code",
   "execution_count": 155,
   "metadata": {},
   "outputs": [
    {
     "output_type": "execute_result",
     "data": {
      "text/plain": [
       "                track_id             song_id           artist      song  \\\n",
       "0     TRMHWSF128F934D22D  SOIBNKE12AB0181BB6  Eliza Doolittle   Go Home   \n",
       "1     TRMHWSF128F934D22D  SOIBNKE12AB0181BB6  Eliza Doolittle   Go Home   \n",
       "2     TRMHWSF128F934D22D  SOIBNKE12AB0181BB6  Eliza Doolittle   Go Home   \n",
       "3     TRMHWSF128F934D22D  SOIBNKE12AB0181BB6  Eliza Doolittle   Go Home   \n",
       "4     TRMHWSF128F934D22D  SOIBNKE12AB0181BB6  Eliza Doolittle   Go Home   \n",
       "...                  ...                 ...              ...       ...   \n",
       "4824  TRYIHNA128F934D221  SOZKBKD12AB0181B90  Eliza Doolittle  Moneybox   \n",
       "4825  TRYIHNA128F934D221  SOZKBKD12AB0181B90  Eliza Doolittle  Moneybox   \n",
       "4826  TRYIHNA128F934D221  SOZKBKD12AB0181B90  Eliza Doolittle  Moneybox   \n",
       "4827  TRYIHNA128F934D221  SOZKBKD12AB0181B90  Eliza Doolittle  Moneybox   \n",
       "4828  TRYIHNA128F934D221  SOZKBKD12AB0181B90  Eliza Doolittle  Moneybox   \n",
       "\n",
       "                                       user_id  count             Band  \\\n",
       "0     4a6bf06cffacc38b51d598940c06dc35f0685c01      3  Eliza Doolittle   \n",
       "1     bbb1f39b74a5974230c4e3343b902f382883175c      2  Eliza Doolittle   \n",
       "2     756d56c83ea2003ac3d8e4b30ddc51e02e52e5cf      1  Eliza Doolittle   \n",
       "3     63e5f42dd18a5f5b1d2df3fecebe6a5ecfc35a27      4  Eliza Doolittle   \n",
       "4     19cdd2de23e456fdfca3f7dc68aa6601765f2db3      1  Eliza Doolittle   \n",
       "...                                        ...    ...              ...   \n",
       "4824  5e9550f4c7a747283194da37d27a5456e2b6d408      4  Eliza Doolittle   \n",
       "4825  db8a0ee12ad49667d5f1ae6793672e10b97de7a6      1  Eliza Doolittle   \n",
       "4826  5e383bf949bc6eee6be0b3db6f08608270352f9b      1  Eliza Doolittle   \n",
       "4827  5b62dacbf67eb61043206d8c1edda6b65f37f11f      1  Eliza Doolittle   \n",
       "4828  d9353891b168006a0af564d80aedcea449c0ec3d      4  Eliza Doolittle   \n",
       "\n",
       "                                                 Lyrics      Song  \n",
       "0     Peepin' out the door\\nI see those choppers are...   Go Home  \n",
       "1     Peepin' out the door\\nI see those choppers are...   Go Home  \n",
       "2     Peepin' out the door\\nI see those choppers are...   Go Home  \n",
       "3     Peepin' out the door\\nI see those choppers are...   Go Home  \n",
       "4     Peepin' out the door\\nI see those choppers are...   Go Home  \n",
       "...                                                 ...       ...  \n",
       "4824  Instead of goin' out\\r\\nTo dinner tonight\\r\\nW...  Moneybox  \n",
       "4825  Instead of goin' out\\r\\nTo dinner tonight\\r\\nW...  Moneybox  \n",
       "4826  Instead of goin' out\\r\\nTo dinner tonight\\r\\nW...  Moneybox  \n",
       "4827  Instead of goin' out\\r\\nTo dinner tonight\\r\\nW...  Moneybox  \n",
       "4828  Instead of goin' out\\r\\nTo dinner tonight\\r\\nW...  Moneybox  \n",
       "\n",
       "[4829 rows x 9 columns]"
      ],
      "text/html": "<div>\n<style scoped>\n    .dataframe tbody tr th:only-of-type {\n        vertical-align: middle;\n    }\n\n    .dataframe tbody tr th {\n        vertical-align: top;\n    }\n\n    .dataframe thead th {\n        text-align: right;\n    }\n</style>\n<table border=\"1\" class=\"dataframe\">\n  <thead>\n    <tr style=\"text-align: right;\">\n      <th></th>\n      <th>track_id</th>\n      <th>song_id</th>\n      <th>artist</th>\n      <th>song</th>\n      <th>user_id</th>\n      <th>count</th>\n      <th>Band</th>\n      <th>Lyrics</th>\n      <th>Song</th>\n    </tr>\n  </thead>\n  <tbody>\n    <tr>\n      <th>0</th>\n      <td>TRMHWSF128F934D22D</td>\n      <td>SOIBNKE12AB0181BB6</td>\n      <td>Eliza Doolittle</td>\n      <td>Go Home</td>\n      <td>4a6bf06cffacc38b51d598940c06dc35f0685c01</td>\n      <td>3</td>\n      <td>Eliza Doolittle</td>\n      <td>Peepin' out the door\\nI see those choppers are...</td>\n      <td>Go Home</td>\n    </tr>\n    <tr>\n      <th>1</th>\n      <td>TRMHWSF128F934D22D</td>\n      <td>SOIBNKE12AB0181BB6</td>\n      <td>Eliza Doolittle</td>\n      <td>Go Home</td>\n      <td>bbb1f39b74a5974230c4e3343b902f382883175c</td>\n      <td>2</td>\n      <td>Eliza Doolittle</td>\n      <td>Peepin' out the door\\nI see those choppers are...</td>\n      <td>Go Home</td>\n    </tr>\n    <tr>\n      <th>2</th>\n      <td>TRMHWSF128F934D22D</td>\n      <td>SOIBNKE12AB0181BB6</td>\n      <td>Eliza Doolittle</td>\n      <td>Go Home</td>\n      <td>756d56c83ea2003ac3d8e4b30ddc51e02e52e5cf</td>\n      <td>1</td>\n      <td>Eliza Doolittle</td>\n      <td>Peepin' out the door\\nI see those choppers are...</td>\n      <td>Go Home</td>\n    </tr>\n    <tr>\n      <th>3</th>\n      <td>TRMHWSF128F934D22D</td>\n      <td>SOIBNKE12AB0181BB6</td>\n      <td>Eliza Doolittle</td>\n      <td>Go Home</td>\n      <td>63e5f42dd18a5f5b1d2df3fecebe6a5ecfc35a27</td>\n      <td>4</td>\n      <td>Eliza Doolittle</td>\n      <td>Peepin' out the door\\nI see those choppers are...</td>\n      <td>Go Home</td>\n    </tr>\n    <tr>\n      <th>4</th>\n      <td>TRMHWSF128F934D22D</td>\n      <td>SOIBNKE12AB0181BB6</td>\n      <td>Eliza Doolittle</td>\n      <td>Go Home</td>\n      <td>19cdd2de23e456fdfca3f7dc68aa6601765f2db3</td>\n      <td>1</td>\n      <td>Eliza Doolittle</td>\n      <td>Peepin' out the door\\nI see those choppers are...</td>\n      <td>Go Home</td>\n    </tr>\n    <tr>\n      <th>...</th>\n      <td>...</td>\n      <td>...</td>\n      <td>...</td>\n      <td>...</td>\n      <td>...</td>\n      <td>...</td>\n      <td>...</td>\n      <td>...</td>\n      <td>...</td>\n    </tr>\n    <tr>\n      <th>4824</th>\n      <td>TRYIHNA128F934D221</td>\n      <td>SOZKBKD12AB0181B90</td>\n      <td>Eliza Doolittle</td>\n      <td>Moneybox</td>\n      <td>5e9550f4c7a747283194da37d27a5456e2b6d408</td>\n      <td>4</td>\n      <td>Eliza Doolittle</td>\n      <td>Instead of goin' out\\r\\nTo dinner tonight\\r\\nW...</td>\n      <td>Moneybox</td>\n    </tr>\n    <tr>\n      <th>4825</th>\n      <td>TRYIHNA128F934D221</td>\n      <td>SOZKBKD12AB0181B90</td>\n      <td>Eliza Doolittle</td>\n      <td>Moneybox</td>\n      <td>db8a0ee12ad49667d5f1ae6793672e10b97de7a6</td>\n      <td>1</td>\n      <td>Eliza Doolittle</td>\n      <td>Instead of goin' out\\r\\nTo dinner tonight\\r\\nW...</td>\n      <td>Moneybox</td>\n    </tr>\n    <tr>\n      <th>4826</th>\n      <td>TRYIHNA128F934D221</td>\n      <td>SOZKBKD12AB0181B90</td>\n      <td>Eliza Doolittle</td>\n      <td>Moneybox</td>\n      <td>5e383bf949bc6eee6be0b3db6f08608270352f9b</td>\n      <td>1</td>\n      <td>Eliza Doolittle</td>\n      <td>Instead of goin' out\\r\\nTo dinner tonight\\r\\nW...</td>\n      <td>Moneybox</td>\n    </tr>\n    <tr>\n      <th>4827</th>\n      <td>TRYIHNA128F934D221</td>\n      <td>SOZKBKD12AB0181B90</td>\n      <td>Eliza Doolittle</td>\n      <td>Moneybox</td>\n      <td>5b62dacbf67eb61043206d8c1edda6b65f37f11f</td>\n      <td>1</td>\n      <td>Eliza Doolittle</td>\n      <td>Instead of goin' out\\r\\nTo dinner tonight\\r\\nW...</td>\n      <td>Moneybox</td>\n    </tr>\n    <tr>\n      <th>4828</th>\n      <td>TRYIHNA128F934D221</td>\n      <td>SOZKBKD12AB0181B90</td>\n      <td>Eliza Doolittle</td>\n      <td>Moneybox</td>\n      <td>d9353891b168006a0af564d80aedcea449c0ec3d</td>\n      <td>4</td>\n      <td>Eliza Doolittle</td>\n      <td>Instead of goin' out\\r\\nTo dinner tonight\\r\\nW...</td>\n      <td>Moneybox</td>\n    </tr>\n  </tbody>\n</table>\n<p>4829 rows × 9 columns</p>\n</div>"
     },
     "metadata": {},
     "execution_count": 155
    }
   ],
   "source": [
    "combined_df = pd.merge(df, our_df, how='inner',left_on=['song','artist'],right_on=['Song','Band'])\n",
    "combined_df"
   ]
  },
  {
   "cell_type": "code",
   "execution_count": 161,
   "metadata": {},
   "outputs": [
    {
     "output_type": "execute_result",
     "data": {
      "text/plain": [
       "Index(['track_id', 'song_id', 'artist', 'song', 'user_id', 'count', 'Band',\n",
       "       'Lyrics', 'Song'],\n",
       "      dtype='object')"
      ]
     },
     "metadata": {},
     "execution_count": 161
    }
   ],
   "source": [
    "combined_df.columns"
   ]
  },
  {
   "cell_type": "code",
   "execution_count": 162,
   "metadata": {},
   "outputs": [
    {
     "output_type": "stream",
     "name": "stdout",
     "text": [
      "unique users:  2855\nunique songs:  34\n"
     ]
    }
   ],
   "source": [
    "print(\"unique users: \", combined_df['user_id'].unique().size)\n",
    "print(\"unique songs: \", combined_df['song_id'].unique().size)"
   ]
  },
  {
   "cell_type": "code",
   "execution_count": 165,
   "metadata": {},
   "outputs": [],
   "source": [
    "unique_SongID = combined_df['song_id'].unique()\n",
    "unique_UserID = combined_df['user_id'].unique()\n",
    "j = 0\n",
    "user_old2new_id_dict = dict()\n",
    "for u in unique_UserID:\n",
    "    user_old2new_id_dict[u] = j\n",
    "    j += 1\n",
    "j = 0\n",
    "song_old2new_id_dict = dict() \n",
    "for i in unique_SongID:\n",
    "    song_old2new_id_dict[i] = j\n",
    "    j += 1\n",
    "    \n",
    "# Then, use the generated dictionaries to reindex UserID and Song in the combined_df\n",
    "for j in range(len(combined_df)):\n",
    "    combined_df.at[j, 'user_id'] = user_old2new_id_dict[combined_df.at[j, 'user_id']]\n",
    "    combined_df.at[j, 'song_id'] = song_old2new_id_dict[combined_df.at[j, 'song_id']]\n"
   ]
  },
  {
   "cell_type": "code",
   "execution_count": 166,
   "metadata": {},
   "outputs": [
    {
     "output_type": "execute_result",
     "data": {
      "text/plain": [
       "                track_id song_id           artist      song user_id  count  \\\n",
       "0     TRMHWSF128F934D22D       0  Eliza Doolittle   Go Home       0      3   \n",
       "1     TRMHWSF128F934D22D       0  Eliza Doolittle   Go Home       1      2   \n",
       "2     TRMHWSF128F934D22D       0  Eliza Doolittle   Go Home       2      1   \n",
       "3     TRMHWSF128F934D22D       0  Eliza Doolittle   Go Home       3      4   \n",
       "4     TRMHWSF128F934D22D       0  Eliza Doolittle   Go Home       4      1   \n",
       "...                  ...     ...              ...       ...     ...    ...   \n",
       "4824  TRYIHNA128F934D221      33  Eliza Doolittle  Moneybox     542      4   \n",
       "4825  TRYIHNA128F934D221      33  Eliza Doolittle  Moneybox     544      1   \n",
       "4826  TRYIHNA128F934D221      33  Eliza Doolittle  Moneybox     770      1   \n",
       "4827  TRYIHNA128F934D221      33  Eliza Doolittle  Moneybox    2760      1   \n",
       "4828  TRYIHNA128F934D221      33  Eliza Doolittle  Moneybox    2854      4   \n",
       "\n",
       "                 Band                                             Lyrics  \\\n",
       "0     Eliza Doolittle  Peepin' out the door\\nI see those choppers are...   \n",
       "1     Eliza Doolittle  Peepin' out the door\\nI see those choppers are...   \n",
       "2     Eliza Doolittle  Peepin' out the door\\nI see those choppers are...   \n",
       "3     Eliza Doolittle  Peepin' out the door\\nI see those choppers are...   \n",
       "4     Eliza Doolittle  Peepin' out the door\\nI see those choppers are...   \n",
       "...               ...                                                ...   \n",
       "4824  Eliza Doolittle  Instead of goin' out\\r\\nTo dinner tonight\\r\\nW...   \n",
       "4825  Eliza Doolittle  Instead of goin' out\\r\\nTo dinner tonight\\r\\nW...   \n",
       "4826  Eliza Doolittle  Instead of goin' out\\r\\nTo dinner tonight\\r\\nW...   \n",
       "4827  Eliza Doolittle  Instead of goin' out\\r\\nTo dinner tonight\\r\\nW...   \n",
       "4828  Eliza Doolittle  Instead of goin' out\\r\\nTo dinner tonight\\r\\nW...   \n",
       "\n",
       "          Song  \n",
       "0      Go Home  \n",
       "1      Go Home  \n",
       "2      Go Home  \n",
       "3      Go Home  \n",
       "4      Go Home  \n",
       "...        ...  \n",
       "4824  Moneybox  \n",
       "4825  Moneybox  \n",
       "4826  Moneybox  \n",
       "4827  Moneybox  \n",
       "4828  Moneybox  \n",
       "\n",
       "[4829 rows x 9 columns]"
      ],
      "text/html": "<div>\n<style scoped>\n    .dataframe tbody tr th:only-of-type {\n        vertical-align: middle;\n    }\n\n    .dataframe tbody tr th {\n        vertical-align: top;\n    }\n\n    .dataframe thead th {\n        text-align: right;\n    }\n</style>\n<table border=\"1\" class=\"dataframe\">\n  <thead>\n    <tr style=\"text-align: right;\">\n      <th></th>\n      <th>track_id</th>\n      <th>song_id</th>\n      <th>artist</th>\n      <th>song</th>\n      <th>user_id</th>\n      <th>count</th>\n      <th>Band</th>\n      <th>Lyrics</th>\n      <th>Song</th>\n    </tr>\n  </thead>\n  <tbody>\n    <tr>\n      <th>0</th>\n      <td>TRMHWSF128F934D22D</td>\n      <td>0</td>\n      <td>Eliza Doolittle</td>\n      <td>Go Home</td>\n      <td>0</td>\n      <td>3</td>\n      <td>Eliza Doolittle</td>\n      <td>Peepin' out the door\\nI see those choppers are...</td>\n      <td>Go Home</td>\n    </tr>\n    <tr>\n      <th>1</th>\n      <td>TRMHWSF128F934D22D</td>\n      <td>0</td>\n      <td>Eliza Doolittle</td>\n      <td>Go Home</td>\n      <td>1</td>\n      <td>2</td>\n      <td>Eliza Doolittle</td>\n      <td>Peepin' out the door\\nI see those choppers are...</td>\n      <td>Go Home</td>\n    </tr>\n    <tr>\n      <th>2</th>\n      <td>TRMHWSF128F934D22D</td>\n      <td>0</td>\n      <td>Eliza Doolittle</td>\n      <td>Go Home</td>\n      <td>2</td>\n      <td>1</td>\n      <td>Eliza Doolittle</td>\n      <td>Peepin' out the door\\nI see those choppers are...</td>\n      <td>Go Home</td>\n    </tr>\n    <tr>\n      <th>3</th>\n      <td>TRMHWSF128F934D22D</td>\n      <td>0</td>\n      <td>Eliza Doolittle</td>\n      <td>Go Home</td>\n      <td>3</td>\n      <td>4</td>\n      <td>Eliza Doolittle</td>\n      <td>Peepin' out the door\\nI see those choppers are...</td>\n      <td>Go Home</td>\n    </tr>\n    <tr>\n      <th>4</th>\n      <td>TRMHWSF128F934D22D</td>\n      <td>0</td>\n      <td>Eliza Doolittle</td>\n      <td>Go Home</td>\n      <td>4</td>\n      <td>1</td>\n      <td>Eliza Doolittle</td>\n      <td>Peepin' out the door\\nI see those choppers are...</td>\n      <td>Go Home</td>\n    </tr>\n    <tr>\n      <th>...</th>\n      <td>...</td>\n      <td>...</td>\n      <td>...</td>\n      <td>...</td>\n      <td>...</td>\n      <td>...</td>\n      <td>...</td>\n      <td>...</td>\n      <td>...</td>\n    </tr>\n    <tr>\n      <th>4824</th>\n      <td>TRYIHNA128F934D221</td>\n      <td>33</td>\n      <td>Eliza Doolittle</td>\n      <td>Moneybox</td>\n      <td>542</td>\n      <td>4</td>\n      <td>Eliza Doolittle</td>\n      <td>Instead of goin' out\\r\\nTo dinner tonight\\r\\nW...</td>\n      <td>Moneybox</td>\n    </tr>\n    <tr>\n      <th>4825</th>\n      <td>TRYIHNA128F934D221</td>\n      <td>33</td>\n      <td>Eliza Doolittle</td>\n      <td>Moneybox</td>\n      <td>544</td>\n      <td>1</td>\n      <td>Eliza Doolittle</td>\n      <td>Instead of goin' out\\r\\nTo dinner tonight\\r\\nW...</td>\n      <td>Moneybox</td>\n    </tr>\n    <tr>\n      <th>4826</th>\n      <td>TRYIHNA128F934D221</td>\n      <td>33</td>\n      <td>Eliza Doolittle</td>\n      <td>Moneybox</td>\n      <td>770</td>\n      <td>1</td>\n      <td>Eliza Doolittle</td>\n      <td>Instead of goin' out\\r\\nTo dinner tonight\\r\\nW...</td>\n      <td>Moneybox</td>\n    </tr>\n    <tr>\n      <th>4827</th>\n      <td>TRYIHNA128F934D221</td>\n      <td>33</td>\n      <td>Eliza Doolittle</td>\n      <td>Moneybox</td>\n      <td>2760</td>\n      <td>1</td>\n      <td>Eliza Doolittle</td>\n      <td>Instead of goin' out\\r\\nTo dinner tonight\\r\\nW...</td>\n      <td>Moneybox</td>\n    </tr>\n    <tr>\n      <th>4828</th>\n      <td>TRYIHNA128F934D221</td>\n      <td>33</td>\n      <td>Eliza Doolittle</td>\n      <td>Moneybox</td>\n      <td>2854</td>\n      <td>4</td>\n      <td>Eliza Doolittle</td>\n      <td>Instead of goin' out\\r\\nTo dinner tonight\\r\\nW...</td>\n      <td>Moneybox</td>\n    </tr>\n  </tbody>\n</table>\n<p>4829 rows × 9 columns</p>\n</div>"
     },
     "metadata": {},
     "execution_count": 166
    }
   ],
   "source": [
    "combined_df"
   ]
  },
  {
   "cell_type": "code",
   "execution_count": 270,
   "metadata": {},
   "outputs": [
    {
     "output_type": "stream",
     "name": "stdout",
     "text": [
      "30420\n13041\nno overlap!\n"
     ]
    }
   ],
   "source": [
    "train_df = combined_df.sample(frac=0.7, random_state=0)\n",
    "test_df = combined_df.drop(train_df.index)\n",
    "\n",
    "print(train_df.size)\n",
    "print(test_df.size)\n",
    "\n",
    "if(train_df.size + test_df.size == combined_df.size):\n",
    "    print(\"no overlap!\")\n"
   ]
  },
  {
   "cell_type": "code",
   "execution_count": 271,
   "metadata": {},
   "outputs": [
    {
     "output_type": "stream",
     "name": "stdout",
     "text": [
      "3380\n1449\n"
     ]
    }
   ],
   "source": [
    "print(len(train_df))\n",
    "print(len(test_df))"
   ]
  },
  {
   "cell_type": "code",
   "execution_count": 272,
   "metadata": {},
   "outputs": [
    {
     "output_type": "stream",
     "name": "stdout",
     "text": [
      "(2855, 34)\n(2855, 34)\n"
     ]
    }
   ],
   "source": [
    "from scipy.sparse import coo_matrix\n",
    "\n",
    "num_user = len(combined_df['user_id'].unique())\n",
    "num_song = len(combined_df['song_id'].unique())\n",
    "\n",
    "train_mat = coo_matrix((train_df['count'].values, (train_df['user_id'].values, train_df['song_id'].values)), shape=(num_user, num_song)).toarray().astype(float)\n",
    "test_mat = coo_matrix((test_df['count'].values, (test_df['user_id'].values, test_df['song_id'].values)), shape=(num_user, num_song)).toarray().astype(float)\n",
    "\n",
    "print(train_mat.shape)\n",
    "print(test_mat.shape)"
   ]
  },
  {
   "source": [
    "Standardize the user counts, so every song listen value becomes a percentage of user listens"
   ],
   "cell_type": "markdown",
   "metadata": {}
  },
  {
   "cell_type": "code",
   "execution_count": 275,
   "metadata": {},
   "outputs": [
    {
     "output_type": "execute_result",
     "data": {
      "text/plain": [
       "97070"
      ]
     },
     "metadata": {},
     "execution_count": 275
    }
   ],
   "source": [
    "np.count_nonzero(~np.isnan(train_mat))"
   ]
  },
  {
   "cell_type": "code",
   "execution_count": 267,
   "metadata": {},
   "outputs": [
    {
     "output_type": "execute_result",
     "data": {
      "text/plain": [
       "97070"
      ]
     },
     "metadata": {},
     "execution_count": 267
    }
   ],
   "source": [
    "train_mat_counts = np.sum(train_mat,axis=1).T\n",
    "test_mat_counts = np.sum(test_mat,axis=1).T\n",
    "\n",
    "for user_id in range(num_user):\n",
    "    \n",
    "    denom = 1\n",
    "    if train_mat_counts[user_id] != 0:\n",
    "        denom = train_mat_counts[user_id]\n",
    "\n",
    "    train_mat[user_id] = train_mat[user_id]/denom\n",
    "    test_mat[user_id] = test_mat[user_id]/denom\n",
    "\n"
   ]
  },
  {
   "source": [
    "## Create item item cosine similarities using bag of words on lyrics\n",
    "print(np.sum(np.sum(train_mat,axis=1) == 0).astype(int))\n",
    "print(len(np.where(~test_mat.any(axis=1))[0]))\n",
    "print(len(np.unique(train_mat, axis=0)))\n",
    "print(len(np.unique(test_mat, axis=0)))"
   ],
   "cell_type": "code",
   "metadata": {},
   "execution_count": 228,
   "outputs": [
    {
     "output_type": "stream",
     "name": "stdout",
     "text": [
      "602\n1663\n631\n306\n"
     ]
    }
   ]
  },
  {
   "cell_type": "code",
   "execution_count": 237,
   "metadata": {},
   "outputs": [],
   "source": [
    "np.savetxt(\"train_mat.csv\", train_mat.astype(int), delimiter=\",\")"
   ]
  },
  {
   "cell_type": "code",
   "execution_count": 177,
   "metadata": {},
   "outputs": [
    {
     "output_type": "stream",
     "name": "stderr",
     "text": [
      "[nltk_data] Downloading package stopwords to\n[nltk_data]     C:\\Users\\Aditya\\AppData\\Roaming\\nltk_data...\n[nltk_data]   Package stopwords is already up-to-date!\n[nltk_data] Downloading package punkt to\n[nltk_data]     C:\\Users\\Aditya\\AppData\\Roaming\\nltk_data...\n[nltk_data]   Package punkt is already up-to-date!\n"
     ]
    }
   ],
   "source": [
    "import nltk\n",
    "from nltk.corpus import stopwords\n",
    "nltk.download('stopwords')\n",
    "nltk.download('punkt')\n",
    "import re\n",
    "from operator import itemgetter\n",
    "from sklearn.metrics import pairwise\n",
    "\n",
    "\n",
    "BAG_SIZE = 1000\n",
    "def get_top_values(d,N = BAG_SIZE):\n",
    "    return list(sorted(d.items(), key = itemgetter(1), reverse = True)[:N])\n",
    "stop_words = set(stopwords.words('english')) \n",
    "\n",
    "# creating  \"master\" dictionary\n",
    "word2count = {}\n",
    "\n",
    "for song_id in range(num_song):\n",
    "\n",
    "    # this will get the first index where song_id appears\n",
    "    lyric_idx = combined_df[combined_df['song_id']==song_id].index.values[0]\n",
    "    \n",
    "    # get song lyrics at that index\n",
    "    song_lyric = combined_df.Lyrics.iloc[lyric_idx]\n",
    "\n",
    "    # clean song lyrics\n",
    "    song_lyric = song_lyric.lower()\n",
    "    song_lyric = re.sub(r'\\W', ' ', song_lyric)\n",
    "    song_lyic = re.sub(r'\\s+', ' ', song_lyric)\n",
    "    song_lyric = re.sub(r'\\r|\\n', ' ', song_lyric)\n",
    "\n",
    "    # get word counts for songs omitting stopwords\n",
    "    words = nltk.word_tokenize(song_lyric)\n",
    "    for word in words:\n",
    "\n",
    "        if word not in stop_words:\n",
    "\n",
    "            if word not in word2count:\n",
    "                word2count[word] = 1\n",
    "            else:\n",
    "                word2count[word] += 1\n",
    "\n",
    "# get the top ranked words for our songs\n",
    "\n",
    "word2count_list = get_top_values(word2count)\n",
    "word2count = dict(word2count_list)\n",
    "word_ranks = {w2c[0]: r for r, w2c in enumerate(word2count_list)}\n",
    "\n",
    "# Now pass through again and create vectors\n",
    "\n",
    "song_counts = np.zeros([num_song, BAG_SIZE])\n",
    "\n",
    "for song_id in range(num_song):\n",
    "\n",
    "    lyric_idx = combined_df[combined_df['song_id']==song_id].index.values[0]\n",
    "    \n",
    "    # get song lyrics at that index\n",
    "    song_lyric = combined_df.Lyrics.iloc[lyric_idx]\n",
    "\n",
    "        # clean song lyrics\n",
    "    song_lyric = song_lyric.lower()\n",
    "    song_lyric = re.sub(r'\\W', ' ', song_lyric)\n",
    "    song_lyic = re.sub(r'\\s+', ' ', song_lyric)\n",
    "    song_lyric = re.sub(r'\\r|\\n', ' ', song_lyric)\n",
    "\n",
    "    words = nltk.word_tokenize(song_lyric)\n",
    "\n",
    "    for word in words:\n",
    "        if word in word_ranks:\n",
    "            word_idx = word_ranks[word]\n",
    "            song_counts[song_id][word_idx] += 1\n",
    "\n",
    "song_pairwise_similarities = pairwise.cosine_similarity(song_counts)"
   ]
  },
  {
   "cell_type": "code",
   "execution_count": 211,
   "metadata": {},
   "outputs": [
    {
     "output_type": "execute_result",
     "data": {
      "text/plain": [
       "(34, 34)"
      ]
     },
     "metadata": {},
     "execution_count": 211
    }
   ],
   "source": [
    "song_pairwise_similarities"
   ]
  },
  {
   "source": [
    "## Content based filtering for bag of words\n",
    "\n",
    "Generate a user profile based on the similarities for each of the users"
   ],
   "cell_type": "markdown",
   "metadata": {}
  },
  {
   "cell_type": "code",
   "execution_count": 210,
   "metadata": {},
   "outputs": [
    {
     "output_type": "execute_result",
     "data": {
      "text/plain": [
       "631"
      ]
     },
     "metadata": {},
     "execution_count": 210
    }
   ],
   "source": [
    "user_profiles =  np.zeros([num_user, BAG_SIZE])\n",
    "\n",
    "for user_id in range(num_user):\n",
    "\n",
    "    user_listens = train_mat[user_id]\n",
    "\n",
    "    for song_id in range(num_song):\n",
    "\n",
    "        # add song vectors weighted by listens to user profile\n",
    "        listen_count = train_mat[user_id][song_id]\n",
    "        user_profiles[user_id] += listen_count*song_counts[song_id]\n",
    "    \n",
    "#user_profiles\n",
    "len(np.unique(user_profiles, axis=0))"
   ]
  },
  {
   "cell_type": "code",
   "execution_count": 198,
   "metadata": {},
   "outputs": [
    {
     "output_type": "execute_result",
     "data": {
      "text/plain": [
       "array([[0.15096307, 0.35478518, 0.02216954, ..., 0.05962944, 0.62304176,\n",
       "        0.82954893],\n",
       "       [0.62839064, 0.78995349, 0.10502218, ..., 0.07732557, 0.18641551,\n",
       "        0.07303123],\n",
       "       [0.47705205, 0.04960466, 0.05833949, ..., 0.04101508, 0.9680705 ,\n",
       "        0.17653342],\n",
       "       ...,\n",
       "       [0.        , 0.        , 0.        , ..., 0.        , 0.        ,\n",
       "        0.        ],\n",
       "       [0.04188833, 0.06084722, 0.01432166, ..., 0.0551286 , 0.18296964,\n",
       "        1.        ],\n",
       "       [0.04188833, 0.06084722, 0.01432166, ..., 0.0551286 , 0.18296964,\n",
       "        1.        ]])"
      ]
     },
     "metadata": {},
     "execution_count": 198
    }
   ],
   "source": [
    "user_profile_similarities = pairwise.cosine_similarity(user_profiles, song_counts)\n",
    "user_profile_similarities"
   ]
  },
  {
   "cell_type": "code",
   "execution_count": 196,
   "metadata": {},
   "outputs": [
    {
     "output_type": "execute_result",
     "data": {
      "text/plain": [
       "631"
      ]
     },
     "metadata": {},
     "execution_count": 196
    }
   ],
   "source": [
    "len(np.unique(user_profiles, axis=0))   "
   ]
  },
  {
   "cell_type": "code",
   "execution_count": 260,
   "metadata": {},
   "outputs": [
    {
     "output_type": "stream",
     "name": "stdout",
     "text": [
      "[0.15096307 0.35478518 0.02216954 0.19133683 0.07894151 0.08544594\n 0.04747215 0.1159953  0.15131539 0.00865078 0.         0.02768136\n 0.20094004 0.14040066 0.         0.12405566 0.         0.\n 0.01963504 0.         0.20451762 0.15722074 0.05840733 0.11724696\n 0.18668705 0.01046562 0.11917596 0.20072164 0.09568963 0.\n 0.         0.05962944 0.62304176 0.82954893]\n[0. 5. 0. 0. 0. 0. 0. 0. 0. 0. 0. 0. 0. 0. 0. 0. 0. 0. 0. 0. 0. 0. 0. 0.\n 0. 0. 0. 0. 0. 0. 0. 0. 8. 7.]\n"
     ]
    }
   ],
   "source": [
    "X = user_profile_similarities[0]\n",
    "y = train_mat[0]\n",
    "\n",
    "print(X)\n",
    "print(y)"
   ]
  },
  {
   "cell_type": "code",
   "execution_count": 239,
   "metadata": {},
   "outputs": [
    {
     "output_type": "execute_result",
     "data": {
      "text/plain": [
       "array([[33, 32,  1, ..., 19, 30, 16],\n",
       "       [ 1,  0, 12, ..., 29, 30, 16],\n",
       "       [32,  0, 12, ..., 17, 19, 16],\n",
       "       ...,\n",
       "       [33,  8, 14, ..., 30, 31,  0],\n",
       "       [33,  3,  8, ..., 19, 14, 16],\n",
       "       [33,  3,  8, ..., 19, 14, 16]])"
      ]
     },
     "metadata": {},
     "execution_count": 239
    }
   ],
   "source": [
    "recommendation = np.zeros([num_user, num_song])\n",
    "\n",
    "for user_id in range(num_user):\n",
    "    recommendation[user_id] = np.argsort(user_profile_similarities[user_id])[::-1]\n",
    "\n",
    "recommendation = recommendation.astype(int)\n",
    "recommendation"
   ]
  },
  {
   "source": [
    "## Recall and Precision values for implicit recommendation"
   ],
   "cell_type": "markdown",
   "metadata": {}
  },
  {
   "cell_type": "code",
   "execution_count": 241,
   "metadata": {},
   "outputs": [
    {
     "output_type": "execute_result",
     "data": {
      "text/plain": [
       "recall_5        0.147022\n",
       "precision_5     0.067450\n",
       "recall_20       0.407089\n",
       "precision_20    0.047903\n",
       "recall_34       0.530970\n",
       "precision_34    0.035753\n",
       "dtype: float64"
      ]
     },
     "metadata": {},
     "execution_count": 241
    }
   ],
   "source": [
    "\n",
    "\n",
    "def recall_k(user_id, k):\n",
    "\n",
    "    num_relevant = 0\n",
    "\n",
    "    for i in range(k):\n",
    "\n",
    "        # get top k movie ids for each user\n",
    "        song_id = recommendation[user_id][i]\n",
    "\n",
    "        # count all relevant values that are in top k\n",
    "        if test_mat[user_id][song_id] == 1:\n",
    "            num_relevant += 1\n",
    "    \n",
    "    # count all relevant values\n",
    "    total_relevant = np.count_nonzero(test_mat[user_id]>=1)\n",
    "\n",
    "    return num_relevant/total_relevant\n",
    "\n",
    "def precision_k(user_id, k):\n",
    "\n",
    "    num_relevant = 0\n",
    "\n",
    "    for rank in range(k):\n",
    "\n",
    "        # get top k movie ids for each user\n",
    "        song_id = recommendation[user_id][rank]\n",
    "\n",
    "        # count all relevant values in top k\n",
    "        if test_mat[user_id][song_id] >= 1:\n",
    "            num_relevant += 1\n",
    "    \n",
    "    return num_relevant/k\n",
    "\n",
    "\n",
    "validation_df = {}\n",
    "\n",
    "for k in [5,20,34]:\n",
    "\n",
    "        # make empty lists to contain precision and recal scores\n",
    "        recall_list = []\n",
    "        precision_list = []\n",
    "\n",
    "        for user in range(num_user):\n",
    "\n",
    "            # check that a user in test_mat does not have all nan values\n",
    "            if np.all(test_mat[user]==0) == False:\n",
    "\n",
    "                # add recall and precision scores to list\n",
    "                recall_list.append(recall_k(user,k))\n",
    "                precision_list.append(precision_k(user,k))\n",
    "\n",
    "        # add lists to dictionary\n",
    "        validation_df[f\"recall_{k}\"] = recall_list\n",
    "        validation_df[f\"precision_{k}\"] = precision_list\n",
    "\n",
    "validation_df = pd.DataFrame(validation_df)\n",
    "validation_df.mean(axis=0)\n",
    "\n"
   ]
  },
  {
   "source": [
    "# Part 3: User-User MF\n"
   ],
   "cell_type": "markdown",
   "metadata": {}
  },
  {
   "cell_type": "code",
   "execution_count": 257,
   "metadata": {},
   "outputs": [],
   "source": [
    "from sklearn.decomposition import NMF\n",
    "\n",
    "\n",
    "\n",
    "nmf = NMF()\n",
    "W = nmf.fit_transform(train_mat);\n",
    "H = nmf.components_;\n",
    "nR = np.dot(W,H)\n",
    "\n",
    "nR = nR.astype(int)"
   ]
  },
  {
   "cell_type": "code",
   "execution_count": 258,
   "metadata": {},
   "outputs": [
    {
     "output_type": "execute_result",
     "data": {
      "text/plain": [
       "1.8239517873699393"
      ]
     },
     "metadata": {},
     "execution_count": 258
    }
   ],
   "source": [
    "from sklearn.metrics import mean_squared_error\n",
    "\n",
    "mean_squared_error(test_mat,nR)"
   ]
  },
  {
   "cell_type": "code",
   "execution_count": null,
   "metadata": {},
   "outputs": [],
   "source": []
  }
 ]
}