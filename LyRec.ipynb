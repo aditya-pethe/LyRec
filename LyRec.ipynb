{
 "metadata": {
  "language_info": {
   "codemirror_mode": {
    "name": "ipython",
    "version": 3
   },
   "file_extension": ".py",
   "mimetype": "text/x-python",
   "name": "python",
   "nbconvert_exporter": "python",
   "pygments_lexer": "ipython3",
   "version": "3.8.5-final"
  },
  "orig_nbformat": 2,
  "kernelspec": {
   "name": "python385jvsc74a57bd04bba1d32cad56bd564e8db7f54bce5a3582261770c0fd88a009216e68a1efe96",
   "display_name": "Python 3.8.5 64-bit ('Aditya': virtualenv)"
  }
 },
 "nbformat": 4,
 "nbformat_minor": 2,
 "cells": [
  {
   "cell_type": "code",
   "execution_count": 4,
   "metadata": {},
   "outputs": [],
   "source": [
    "import pandas as pd\n",
    "import numpy as np\n",
    "import sklearn \n",
    "import matplotlib.pyplot as plt"
   ]
  },
  {
   "cell_type": "code",
   "execution_count": 5,
   "metadata": {
    "tags": []
   },
   "outputs": [
    {
     "output_type": "execute_result",
     "data": {
      "text/plain": [
       "             Band                                             Lyrics  \\\n",
       "0    Elijah Blake  No, no\\r\\nI ain't ever trapped out the bando\\r...   \n",
       "1    Elijah Blake  The drinks go down and smoke goes up, I feel m...   \n",
       "2    Elijah Blake  She don't live on planet Earth no more\\r\\nShe ...   \n",
       "3    Elijah Blake  Trippin' off that Grigio, mobbin', lights low\\...   \n",
       "4    Elijah Blake  I see a midnight panther, so gallant and so br...   \n",
       "..            ...                                                ...   \n",
       "994  Judy Garland  Day in, day out\\r\\nThe same old hoodoo follows...   \n",
       "995  Judy Garland  When a dove is in love\\r\\nWith a doll of a dov...   \n",
       "996  Judy Garland  You've got me where you want me\\r\\nAnd I hope ...   \n",
       "997  Judy Garland  If you're ever in a jam, here I am \\r\\nIf you'...   \n",
       "998  Judy Garland  Judy\\r\\nForget your troubles\\r\\n\\r\\nBarbra\\r\\n...   \n",
       "\n",
       "                                                Song  \n",
       "0                                           Everyday  \n",
       "1                                   Live Till We Die  \n",
       "2                                      The Otherside  \n",
       "3                                              Pinot  \n",
       "4                                 Shadows & Diamonds  \n",
       "..                                               ...  \n",
       "994                                  Day In, Day Out  \n",
       "995  I Could Go on Singin' ('Til the Cows Come Home)  \n",
       "996                     You Got Me Where You Want Me  \n",
       "997                              Friendship (Medley)  \n",
       "998            Get Happy - Happy Days Are Here Again  \n",
       "\n",
       "[999 rows x 3 columns]"
      ],
      "text/html": "<div>\n<style scoped>\n    .dataframe tbody tr th:only-of-type {\n        vertical-align: middle;\n    }\n\n    .dataframe tbody tr th {\n        vertical-align: top;\n    }\n\n    .dataframe thead th {\n        text-align: right;\n    }\n</style>\n<table border=\"1\" class=\"dataframe\">\n  <thead>\n    <tr style=\"text-align: right;\">\n      <th></th>\n      <th>Band</th>\n      <th>Lyrics</th>\n      <th>Song</th>\n    </tr>\n  </thead>\n  <tbody>\n    <tr>\n      <th>0</th>\n      <td>Elijah Blake</td>\n      <td>No, no\\r\\nI ain't ever trapped out the bando\\r...</td>\n      <td>Everyday</td>\n    </tr>\n    <tr>\n      <th>1</th>\n      <td>Elijah Blake</td>\n      <td>The drinks go down and smoke goes up, I feel m...</td>\n      <td>Live Till We Die</td>\n    </tr>\n    <tr>\n      <th>2</th>\n      <td>Elijah Blake</td>\n      <td>She don't live on planet Earth no more\\r\\nShe ...</td>\n      <td>The Otherside</td>\n    </tr>\n    <tr>\n      <th>3</th>\n      <td>Elijah Blake</td>\n      <td>Trippin' off that Grigio, mobbin', lights low\\...</td>\n      <td>Pinot</td>\n    </tr>\n    <tr>\n      <th>4</th>\n      <td>Elijah Blake</td>\n      <td>I see a midnight panther, so gallant and so br...</td>\n      <td>Shadows &amp; Diamonds</td>\n    </tr>\n    <tr>\n      <th>...</th>\n      <td>...</td>\n      <td>...</td>\n      <td>...</td>\n    </tr>\n    <tr>\n      <th>994</th>\n      <td>Judy Garland</td>\n      <td>Day in, day out\\r\\nThe same old hoodoo follows...</td>\n      <td>Day In, Day Out</td>\n    </tr>\n    <tr>\n      <th>995</th>\n      <td>Judy Garland</td>\n      <td>When a dove is in love\\r\\nWith a doll of a dov...</td>\n      <td>I Could Go on Singin' ('Til the Cows Come Home)</td>\n    </tr>\n    <tr>\n      <th>996</th>\n      <td>Judy Garland</td>\n      <td>You've got me where you want me\\r\\nAnd I hope ...</td>\n      <td>You Got Me Where You Want Me</td>\n    </tr>\n    <tr>\n      <th>997</th>\n      <td>Judy Garland</td>\n      <td>If you're ever in a jam, here I am \\r\\nIf you'...</td>\n      <td>Friendship (Medley)</td>\n    </tr>\n    <tr>\n      <th>998</th>\n      <td>Judy Garland</td>\n      <td>Judy\\r\\nForget your troubles\\r\\n\\r\\nBarbra\\r\\n...</td>\n      <td>Get Happy - Happy Days Are Here Again</td>\n    </tr>\n  </tbody>\n</table>\n<p>999 rows × 3 columns</p>\n</div>"
     },
     "metadata": {},
     "execution_count": 5
    }
   ],
   "source": [
    "filename = 'first1000.csv'\n",
    "df = pd.read_csv(filename,quotechar=\"\\\"\")\n",
    "df\n"
   ]
  },
  {
   "source": [
    "## Attempt at BERT pairwise similarities"
   ],
   "cell_type": "markdown",
   "metadata": {}
  },
  {
   "cell_type": "code",
   "execution_count": 32,
   "metadata": {},
   "outputs": [
    {
     "output_type": "error",
     "ename": "ModuleNotFoundError",
     "evalue": "No module named 'sentence_transformers'",
     "traceback": [
      "\u001b[1;31m---------------------------------------------------------------------------\u001b[0m",
      "\u001b[1;31mModuleNotFoundError\u001b[0m                       Traceback (most recent call last)",
      "\u001b[1;32m<ipython-input-32-dbcd88385343>\u001b[0m in \u001b[0;36m<module>\u001b[1;34m\u001b[0m\n\u001b[1;32m----> 1\u001b[1;33m \u001b[1;32mfrom\u001b[0m \u001b[0msentence_transformers\u001b[0m \u001b[1;32mimport\u001b[0m \u001b[0mSentenceTransformer\u001b[0m\u001b[1;33m\u001b[0m\u001b[1;33m\u001b[0m\u001b[0m\n\u001b[0m",
      "\u001b[1;31mModuleNotFoundError\u001b[0m: No module named 'sentence_transformers'"
     ]
    }
   ],
   "source": [
    "from sentence_transformers import SentenceTransformer\n",
    "\n",
    "sbert_model = SentenceTransformer('bert-base-nli-mean-tokens')\n",
    "\n",
    "document_embeddings = sbert_model.encode(df['Lyrics'])\n",
    "document_embeddingsing difficulty using/installing this library"
   ]
  },
  {
   "cell_type": "code",
   "execution_count": 19,
   "metadata": {},
   "outputs": [
    {
     "output_type": "error",
     "ename": "NameError",
     "evalue": "name 'SentenceTransformer' is not defined",
     "traceback": [
      "\u001b[1;31m---------------------------------------------------------------------------\u001b[0m",
      "\u001b[1;31mNameError\u001b[0m                                 Traceback (most recent call last)",
      "\u001b[1;32m<ipython-input-19-2e3df2b543eb>\u001b[0m in \u001b[0;36m<module>\u001b[1;34m\u001b[0m\n\u001b[1;32m----> 1\u001b[1;33m \u001b[0msbert_model\u001b[0m \u001b[1;33m=\u001b[0m \u001b[0mSentenceTransformer\u001b[0m\u001b[1;33m(\u001b[0m\u001b[1;34m'bert-base-nli-mean-tokens'\u001b[0m\u001b[1;33m)\u001b[0m\u001b[1;33m\u001b[0m\u001b[1;33m\u001b[0m\u001b[0m\n\u001b[0m\u001b[0;32m      2\u001b[0m \u001b[1;33m\u001b[0m\u001b[0m\n\u001b[0;32m      3\u001b[0m \u001b[0mdocument_embeddings\u001b[0m \u001b[1;33m=\u001b[0m \u001b[0msbert_model\u001b[0m\u001b[1;33m.\u001b[0m\u001b[0mencode\u001b[0m\u001b[1;33m(\u001b[0m\u001b[0mdf\u001b[0m\u001b[1;33m[\u001b[0m\u001b[1;34m'Lyrics'\u001b[0m\u001b[1;33m]\u001b[0m\u001b[1;33m)\u001b[0m\u001b[1;33m\u001b[0m\u001b[1;33m\u001b[0m\u001b[0m\n\u001b[0;32m      4\u001b[0m \u001b[1;33m\u001b[0m\u001b[0m\n\u001b[0;32m      5\u001b[0m \u001b[0mpairwise_similarities\u001b[0m\u001b[1;33m=\u001b[0m\u001b[0mcosine_similarity\u001b[0m\u001b[1;33m(\u001b[0m\u001b[0mdocument_embeddings\u001b[0m\u001b[1;33m)\u001b[0m\u001b[1;33m\u001b[0m\u001b[1;33m\u001b[0m\u001b[0m\n",
      "\u001b[1;31mNameError\u001b[0m: name 'SentenceTransformer' is not defined"
     ]
    }
   ],
   "source": [
    "\n",
    "print(document_embeddings.shape)\n",
    "pairwise_similarities=pairwise.cosine_similarity(document_embeddings)\n",
    "pairwise_differences=pairwise.euclidean_distances(document_embeddings)\n",
    "\n",
    "from sklearn.feature_extraction.text import TfidfVectorizer \n",
    "\n",
    "tfidfvectoriser=TfidfVectorizer()\n",
    "tfidfvectoriser.fit(df.Lyrics)\n",
    "tfidf_vectors=tfidfvectoriser.transform(df.Lyrics)\n",
    "\n",
    "def most_similar(doc_id,similarity_matrix,matrix):\n",
    "    print (f'Song: {df.iloc[doc_id][\"Song\"]} - {df.iloc[doc_id][\"Band\"]}')\n",
    "    print ('\\n')\n",
    "    print ('Similar Songs:')\n",
    "    if matrix=='Cosine Similarity':\n",
    "        similar_ix=np.argsort(similarity_matrix[doc_id])[::-1]\n",
    "    elif matrix=='Euclidean Distance':\n",
    "        similar_ix=np.argsort(similarity_matrix[doc_id])\n",
    "    for ix in similar_ix[:5]:\n",
    "        if ix==doc_id:\n",
    "            continue\n",
    "        print('\\n')\n",
    "        print (f'Similar Song: {df.iloc[ix][\"Song\"]} - {df.iloc[ix][\"Band\"]}')\n",
    "        print (f'{matrix} : {similarity_matrix[doc_id][ix]}')\n",
    "\n",
    "most_similar(0,pairwise_similarities,'Cosine Similarity')\n",
    "print(\"---\")\n",
    "most_similar(0,pairwise_differences,'Euclidean Distance')"
   ]
  },
  {
   "source": [
    "## Bag of Words\n",
    "\n",
    "Just as a preface, this is broken"
   ],
   "cell_type": "markdown",
   "metadata": {}
  },
  {
   "cell_type": "code",
   "execution_count": 38,
   "metadata": {},
   "outputs": [
    {
     "output_type": "stream",
     "name": "stderr",
     "text": [
      "[nltk_data] Downloading package stopwords to\n",
      "[nltk_data]     C:\\Users\\Aditya\\AppData\\Roaming\\nltk_data...\n",
      "[nltk_data]   Package stopwords is already up-to-date!\n",
      "[nltk_data] Downloading package punkt to\n",
      "[nltk_data]     C:\\Users\\Aditya\\AppData\\Roaming\\nltk_data...\n",
      "[nltk_data]   Package punkt is already up-to-date!\n",
      "{'love': 1778, 'ø': 1661, 'ù': 1502, 'oh': 873, 'know': 825, 'got': 711, 'like': 636, 'never': 625, 'let': 573, 'one': 570, 'go': 550, 'way': 539, 'heart': 523, 'get': 482, 'time': 464, 'de': 459, 'day': 442, 'baby': 441, 'see': 429, 'come': 424, 'little': 413, 'say': 362, 'cause': 355, 'ã': 354, 'want': 352, 'na': 346, 'que': 343, 'could': 341, 'night': 325, 'make': 318, 'right': 313, 'life': 284, 'take': 283, 'away': 277, 'good': 270, 'long': 263, 'feel': 260, 'tell': 259, 'la': 255, 'man': 247, 'ùš': 237, 'eyes': 235, 'back': 235, 'gon': 230, 'need': 229, 'old': 223, 'world': 221, 'find': 219, 'yes': 201, 'may': 200, 'home': 197, 'rain': 196, 'ta': 194, 'dream': 193, 'always': 193, 'ever': 192, 'every': 192, 'e': 191, 'keep': 190, 'please': 190, 'think': 189, 'give': 189, 'blue': 182, 'look': 179, 'still': 175, 'days': 175, 'true': 171, 'gone': 170, 'nothing': 166, 'two': 165, 'till': 164, 'hold': 164, 'would': 163, 'things': 163, 'alone': 162, 'thing': 161, 'together': 161, 'mine': 161, 'sweet': 158, 'around': 157, 'hear': 155, 'stay': 153, 'new': 149, 'well': 148, 'vai': 146, 'ùˆø': 146, 'song': 142, 'sing': 142, 'hand': 141, 'kiss': 141, 'wrong': 140, 'happy': 140, 'better': 139, 'everything': 139, 'us': 132, 'ùšù': 132, 'mind': 131, 'really': 130, 'fall': 129, 'cry': 129}\n",
      "[[0. 0. 0. ... 0. 0. 0.]\n",
      " [0. 0. 0. ... 0. 0. 0.]\n",
      " [0. 0. 0. ... 0. 0. 0.]\n",
      " ...\n",
      " [0. 0. 0. ... 0. 0. 0.]\n",
      " [0. 0. 0. ... 0. 0. 0.]\n",
      " [0. 0. 0. ... 0. 0. 0.]]\n",
      "Song: Everyday - Elijah Blake\n",
      "Similar Songs:\n",
      "\n",
      "\n",
      "Similar Song: Algo Personal - Ella Baila Sola\n",
      "Cosine Similarity : 0.0\n",
      "\n",
      "\n",
      "Similar Song: Home - Ella Eyre\n",
      "Cosine Similarity : 0.0\n",
      "\n",
      "\n",
      "Similar Song: So Special - Ella Blame\n",
      "Cosine Similarity : 0.0\n",
      "\n",
      "\n",
      "Similar Song: Como Repartimos Los Amigos (DVD) - Ella Baila Sola\n",
      "Cosine Similarity : 0.0\n",
      "---\n",
      "Song: Everyday - Elijah Blake\n",
      "Similar Songs:\n",
      "\n",
      "\n",
      "Similar Song: Call Me Darling [*] - Ella Fitzgerald\n",
      "Euclidean Distance : 18447.71912730677\n",
      "\n",
      "\n",
      "Similar Song: Darn That Dream - Ella Fitzgerald\n",
      "Euclidean Distance : 18447.71912730677\n",
      "\n",
      "\n",
      "Similar Song: Georgia on My Mind - Ella Fitzgerald\n",
      "Euclidean Distance : 18447.71912730677\n",
      "\n",
      "\n",
      "Similar Song: I Can't Get Started - Ella Fitzgerald\n",
      "Euclidean Distance : 18447.71912730677\n"
     ]
    }
   ],
   "source": [
    "import nltk\n",
    "from nltk.corpus import stopwords\n",
    "nltk.download('stopwords')\n",
    "nltk.download('punkt')\n",
    "import re\n",
    "from operator import itemgetter\n",
    "from sklearn.metrics import pairwise\n",
    "# Define dictionary utility function\n",
    "BAG_SIZE = 100\n",
    "def get_top_values(d,N = BAG_SIZE):\n",
    "    return dict(sorted(d.items(), key = itemgetter(1), reverse = True)[:N])\n",
    "\n",
    "# Preprocess songs\n",
    "\n",
    "# set stop words in english\n",
    "stop_words = set(stopwords.words('english')) \n",
    "\n",
    "# creating  \"master\" dictionary\n",
    "word2count = {}\n",
    "\n",
    "for row in df.index:\n",
    "    song = df['Lyrics'][row]\n",
    "\n",
    "    # remove stopwords and clean up each song\n",
    "    song = song.lower()\n",
    "    song = re.sub(r'\\W', ' ', song)\n",
    "    song = re.sub(r'\\s+', ' ', song)\n",
    "\n",
    "    words = nltk.word_tokenize(song)\n",
    "    for word in words:\n",
    "\n",
    "        if word not in stop_words:\n",
    "\n",
    "            if word not in word2count.keys():\n",
    "                word2count[word] = 1\n",
    "            else:\n",
    "                word2count[word] += 1\n",
    "\n",
    "word2count = get_top_values(word2count)\n",
    "word_ranks = {k: v for v, k in enumerate(list(word2count.keys()))}\n",
    "\n",
    "# Now pass through again and create vectors\n",
    "\n",
    "song_counts = np.zeros([1000, BAG_SIZE])\n",
    "\n",
    "for song_index in df.index:\n",
    "\n",
    "    song = df['Lyrics'][song_index]\n",
    "\n",
    "    # remove stopwords and clean up each song\n",
    "    song = song.lower()\n",
    "    song = re.sub(r'\\W', ' ', song)\n",
    "    song = re.sub(r'\\s+', ' ', song)\n",
    "\n",
    "    for word in words:\n",
    "\n",
    "        if word in word_ranks:\n",
    "\n",
    "            word_idx = word_ranks[word]\n",
    "            song_counts[song_idx][word_idx] += 1\n",
    "\n",
    "print(word2count)\n",
    "print(song_counts)\n",
    "\n",
    "\n",
    "pairwise_similarities=pairwise.cosine_similarity(song_counts)\n",
    "pairwise_differences=pairwise.euclidean_distances(song_counts)\n",
    "\n",
    "\n",
    "def most_similar(doc_id,similarity_matrix,matrix):\n",
    "    print (f'Song: {df.iloc[doc_id][\"Song\"]} - {df.iloc[doc_id][\"Band\"]}')\n",
    "    print ('Similar Songs:')\n",
    "    \n",
    "    if matrix=='Cosine Similarity':\n",
    "        similar_ix=np.argsort(similarity_matrix[doc_id])[::-1]\n",
    "    elif matrix=='Euclidean Distance':\n",
    "        similar_ix=np.argsort(similarity_matrix[doc_id])\n",
    "    for ix in similar_ix[:5]:\n",
    "        if ix==doc_id:\n",
    "            continue\n",
    "        print('\\n')\n",
    "        print (f'Similar Song: {df.iloc[ix][\"Song\"]} - {df.iloc[ix][\"Band\"]}')\n",
    "        print (f'{matrix} : {similarity_matrix[doc_id][ix]}')\n",
    "            \n",
    "most_similar(0,pairwise_similarities,'Cosine Similarity')\n",
    "print(\"---\")\n",
    "most_similar(0,pairwise_differences,'Euclidean Distance')\n"
   ]
  },
  {
   "cell_type": "code",
   "execution_count": 29,
   "metadata": {},
   "outputs": [
    {
     "output_type": "stream",
     "name": "stdout",
     "text": [
      "[    0.     0.     0.     0.     0.     0.     0.     0.  2997.   999.\n     0.     0.     0.  6993.     0.     0.   999.     0.     0.  2997.\n     0.     0.     0.     0.     0.     0.     0.     0.     0.     0.\n     0.     0.   999.  1998.     0.     0.     0.   999.     0.     0.\n     0.     0.     0.     0.     0.     0.   999.     0.     0.     0.\n     0.     0.     0.     0.     0.     0.     0.     0.     0.     0.\n     0.     0.     0.     0.     0.  4995.     0.   999.     0.     0.\n     0.     0.     0.     0.     0.     0.   999.     0.     0.     0.\n     0.     0.     0.     0.     0.     0.  1998.  1998.   999.     0.\n     0. 14985.  1998.     0.     0.     0.     0.     0.     0.     0.\n     0.     0.     0.   999.     0.     0.     0.     0.     0.     0.\n     0.     0.     0.     0.     0.     0.     0.     0.     0.     0.\n     0.     0.     0.     0.     0.     0.     0.     0.     0.     0.\n     0.     0.   999.     0.     0.     0.     0.     0.     0.     0.\n     0.     0.     0.     0.     0.     0.     0.     0.     0.     0.\n     0.   999.     0.     0.     0.     0.     0.     0.     0.     0.\n     0.     0.     0.     0.     0.     0.     0.     0.     0.     0.\n     0.     0.     0.     0.     0.     0.     0.     0.     0.     0.\n     0.     0.     0.     0.     0.  1998.     0.     0.     0.     0.\n     0.     0.     0.     0.     0.     0.     0.     0.     0.     0.\n     0.     0.     0.     0.     0.     0.     0.     0.     0.     0.\n     0.     0.     0.     0.     0.     0.     0.     0.     0.     0.\n     0.     0.     0.     0.     0.     0.   999.     0.     0.     0.\n     0.     0.     0.     0.     0.     0.     0.     0.   999.     0.\n     0.     0.     0.   999.     0.     0.     0.  1998.     0.     0.\n     0.     0.     0.     0.     0.     0.   999.     0.     0.     0.\n     0.     0.     0.     0.     0.  2997.     0.     0.     0.     0.\n     0.     0.     0.     0.     0.     0.     0.     0.     0.     0.\n     0.     0.     0.     0.     0.     0.     0.     0.     0.     0.\n     0.     0.     0.     0.     0.     0.     0.     0.     0.     0.\n     0.     0.     0.     0.     0.     0.     0.     0.     0.     0.\n     0.     0.     0.     0.   999.   999.     0.     0.     0.     0.\n     0.     0.     0.     0.     0.     0.     0.     0.     0.     0.\n     0.   999.     0.     0.     0.     0.     0.     0.     0.     0.\n     0.     0.     0.     0.     0.     0.     0.     0.     0.     0.\n     0.     0.     0.     0.     0.     0.     0.     0.     0.     0.\n     0.     0.     0.     0.     0.     0.     0.     0.     0.     0.\n     0.     0.     0.     0.     0.     0.  1998.     0.     0.     0.\n     0.     0.     0.     0.     0.     0.     0.     0.     0.     0.\n     0.     0.     0.     0.     0.     0.     0.     0.  1998.     0.\n     0.     0.     0.     0.     0.     0.     0.     0.     0.     0.\n     0.     0.     0.     0.     0.     0.     0.     0.     0.     0.\n  1998.     0.     0.     0.     0.     0.     0.     0.     0.     0.\n     0.     0.     0.     0.     0.     0.     0.     0.     0.     0.\n     0.     0.     0.     0.     0.     0.     0.     0.     0.     0.\n     0.     0.     0.     0.     0.     0.     0.     0.     0.     0.\n     0.     0.     0.     0.     0.     0.     0.     0.     0.     0.\n     0.     0.     0.     0.     0.     0.     0.     0.     0.     0.\n     0.     0.     0.     0.     0.     0.     0.     0.     0.     0.\n     0.     0.     0.     0.     0.     0.     0.     0.     0.     0.\n     0.     0.     0.     0.     0.     0.     0.     0.     0.     0.\n     0.     0.     0.     0.     0.     0.     0.     0.     0.     0.\n     0.     0.     0.     0.     0.     0.     0.     0.     0.     0.\n     0.     0.     0.     0.     0.     0.     0.     0.     0.     0.\n     0.     0.     0.     0.     0.     0.     0.     0.     0.     0.\n     0.     0.     0.     0.     0.     0.     0.     0.     0.     0.\n     0.     0.     0.     0.     0.     0.     0.     0.     0.     0.\n     0.     0.     0.     0.     0.     0.     0.     0.     0.     0.\n     0.     0.     0.     0.     0.     0.     0.     0.     0.     0.\n     0.     0.     0.     0.     0.     0.     0.     0.     0.     0.\n     0.     0.     0.     0.     0.     0.     0.     0.     0.     0.\n     0.     0.     0.     0.     0.     0.     0.     0.     0.     0.\n     0.     0.     0.     0.     0.     0.     0.     0.     0.     0.\n     0.     0.     0.     0.     0.     0.  1998.     0.     0.     0.\n     0.     0.     0.     0.     0.     0.     0.     0.     0.     0.\n     0.   999.     0.     0.     0.     0.     0.     0.     0.     0.\n     0.     0.     0.     0.   999.     0.     0.     0.     0.     0.\n     0.     0.     0.     0.     0.     0.     0.     0.     0.     0.\n     0.     0.     0.     0.     0.     0.     0.     0.     0.     0.\n     0.     0.     0.     0.     0.     0.     0.     0.     0.     0.\n     0.     0.     0.     0.     0.     0.     0.     0.     0.  3996.\n     0.     0.     0.     0.     0.     0.     0.     0.     0.     0.\n     0.     0.     0.     0.     0.     0.     0.     0.     0.     0.\n     0.     0.     0.     0.     0.     0.     0.     0.     0.     0.\n     0. 19980.     0.     0.     0.     0.     0.     0.     0.     0.\n     0.     0.     0.     0.     0.     0.     0.     0.     0.  1998.\n     0.     0.     0.     0.     0.     0.     0.     0.     0.     0.\n     0.     0.     0.     0.     0.     0.     0.     0.     0.     0.\n     0.     0.     0.     0.     0.     0.     0.     0.  1998.     0.\n     0.     0.     0.     0.     0.     0.     0.     0.     0.     0.\n     0.     0.     0.     0.     0.     0.     0.     0.     0.     0.\n     0.     0.     0.     0.     0.     0.     0.     0.     0.     0.\n     0.     0.     0.     0.     0.     0.     0.     0.     0.     0.\n     0.     0.     0.     0.     0.     0.     0.     0.     0.     0.\n     0.     0.     0.     0.     0.     0.     0.     0.     0.     0.\n     0.     0.     0.     0.     0.     0.     0.     0.     0.     0.\n     0. 18981.     0.     0.     0.     0.     0.     0.     0.     0.\n     0.     0.     0.     0.     0.     0.     0.     0.     0.     0.\n     0.     0.     0.     0.     0.     0.     0.     0.     0.     0.\n     0.     0.     0.     0.     0.     0.     0.     0.     0.     0.\n     0.     0.     0.     0.     0.     0.     0.     0.     0.     0.\n     0.     0.     0.     0.     0.     0.     0.     0.     0.     0.\n     0.     0.     0.     0.     0.     0.     0.     0.     0.     0.\n     0.     0.     0.     0.     0.     0.     0.     0.     0.     0.\n     0.     0.     0.     0.     0.     0.     0.     0.     0.     0.\n     0.     0.     0.     0.     0.     0.     0.     0.     0.     0.\n     0.     0.     0.     0.     0.     0.     0.     0.     0.     0.\n     0.     0.     0.     0.     0.     0.     0.     0.     0.     0.\n     0.     0.     0.     0.     0.     0.     0.     0.     0.     0.\n     0.     0.     0.     0.     0.     0.     0.     0.     0.     0.]\n"
     ]
    }
   ],
   "source": []
  },
  {
   "cell_type": "code",
   "execution_count": null,
   "metadata": {},
   "outputs": [],
   "source": []
  }
 ]
}