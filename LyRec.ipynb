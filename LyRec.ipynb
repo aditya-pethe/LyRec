{
 "cells": [
  {
   "cell_type": "code",
   "execution_count": 9,
   "metadata": {},
   "outputs": [],
   "source": [
    "import pandas as pd\n",
    "import numpy as np\n",
    "import sklearn \n",
    "from sklearn.metrics import pairwise\n",
    "import matplotlib.pyplot as plt"
   ]
  },
  {
   "cell_type": "code",
   "execution_count": 10,
   "metadata": {
    "tags": []
   },
   "outputs": [
    {
     "data": {
      "text/html": [
       "<div>\n",
       "<style scoped>\n",
       "    .dataframe tbody tr th:only-of-type {\n",
       "        vertical-align: middle;\n",
       "    }\n",
       "\n",
       "    .dataframe tbody tr th {\n",
       "        vertical-align: top;\n",
       "    }\n",
       "\n",
       "    .dataframe thead th {\n",
       "        text-align: right;\n",
       "    }\n",
       "</style>\n",
       "<table border=\"1\" class=\"dataframe\">\n",
       "  <thead>\n",
       "    <tr style=\"text-align: right;\">\n",
       "      <th></th>\n",
       "      <th>Band</th>\n",
       "      <th>Lyrics</th>\n",
       "      <th>Song</th>\n",
       "    </tr>\n",
       "  </thead>\n",
       "  <tbody>\n",
       "    <tr>\n",
       "      <th>0</th>\n",
       "      <td>Elijah Blake</td>\n",
       "      <td>No, no\\r\\nI ain't ever trapped out the bando\\r...</td>\n",
       "      <td>Everyday</td>\n",
       "    </tr>\n",
       "    <tr>\n",
       "      <th>1</th>\n",
       "      <td>Elijah Blake</td>\n",
       "      <td>The drinks go down and smoke goes up, I feel m...</td>\n",
       "      <td>Live Till We Die</td>\n",
       "    </tr>\n",
       "    <tr>\n",
       "      <th>2</th>\n",
       "      <td>Elijah Blake</td>\n",
       "      <td>She don't live on planet Earth no more\\r\\nShe ...</td>\n",
       "      <td>The Otherside</td>\n",
       "    </tr>\n",
       "    <tr>\n",
       "      <th>3</th>\n",
       "      <td>Elijah Blake</td>\n",
       "      <td>Trippin' off that Grigio, mobbin', lights low\\...</td>\n",
       "      <td>Pinot</td>\n",
       "    </tr>\n",
       "    <tr>\n",
       "      <th>4</th>\n",
       "      <td>Elijah Blake</td>\n",
       "      <td>I see a midnight panther, so gallant and so br...</td>\n",
       "      <td>Shadows &amp; Diamonds</td>\n",
       "    </tr>\n",
       "    <tr>\n",
       "      <th>...</th>\n",
       "      <td>...</td>\n",
       "      <td>...</td>\n",
       "      <td>...</td>\n",
       "    </tr>\n",
       "    <tr>\n",
       "      <th>994</th>\n",
       "      <td>Judy Garland</td>\n",
       "      <td>Day in, day out\\r\\nThe same old hoodoo follows...</td>\n",
       "      <td>Day In, Day Out</td>\n",
       "    </tr>\n",
       "    <tr>\n",
       "      <th>995</th>\n",
       "      <td>Judy Garland</td>\n",
       "      <td>When a dove is in love\\r\\nWith a doll of a dov...</td>\n",
       "      <td>I Could Go on Singin' ('Til the Cows Come Home)</td>\n",
       "    </tr>\n",
       "    <tr>\n",
       "      <th>996</th>\n",
       "      <td>Judy Garland</td>\n",
       "      <td>You've got me where you want me\\r\\nAnd I hope ...</td>\n",
       "      <td>You Got Me Where You Want Me</td>\n",
       "    </tr>\n",
       "    <tr>\n",
       "      <th>997</th>\n",
       "      <td>Judy Garland</td>\n",
       "      <td>If you're ever in a jam, here I am \\r\\nIf you'...</td>\n",
       "      <td>Friendship (Medley)</td>\n",
       "    </tr>\n",
       "    <tr>\n",
       "      <th>998</th>\n",
       "      <td>Judy Garland</td>\n",
       "      <td>Judy\\r\\nForget your troubles\\r\\n\\r\\nBarbra\\r\\n...</td>\n",
       "      <td>Get Happy - Happy Days Are Here Again</td>\n",
       "    </tr>\n",
       "  </tbody>\n",
       "</table>\n",
       "<p>999 rows × 3 columns</p>\n",
       "</div>"
      ],
      "text/plain": [
       "             Band                                             Lyrics  \\\n",
       "0    Elijah Blake  No, no\\r\\nI ain't ever trapped out the bando\\r...   \n",
       "1    Elijah Blake  The drinks go down and smoke goes up, I feel m...   \n",
       "2    Elijah Blake  She don't live on planet Earth no more\\r\\nShe ...   \n",
       "3    Elijah Blake  Trippin' off that Grigio, mobbin', lights low\\...   \n",
       "4    Elijah Blake  I see a midnight panther, so gallant and so br...   \n",
       "..            ...                                                ...   \n",
       "994  Judy Garland  Day in, day out\\r\\nThe same old hoodoo follows...   \n",
       "995  Judy Garland  When a dove is in love\\r\\nWith a doll of a dov...   \n",
       "996  Judy Garland  You've got me where you want me\\r\\nAnd I hope ...   \n",
       "997  Judy Garland  If you're ever in a jam, here I am \\r\\nIf you'...   \n",
       "998  Judy Garland  Judy\\r\\nForget your troubles\\r\\n\\r\\nBarbra\\r\\n...   \n",
       "\n",
       "                                                Song  \n",
       "0                                           Everyday  \n",
       "1                                   Live Till We Die  \n",
       "2                                      The Otherside  \n",
       "3                                              Pinot  \n",
       "4                                 Shadows & Diamonds  \n",
       "..                                               ...  \n",
       "994                                  Day In, Day Out  \n",
       "995  I Could Go on Singin' ('Til the Cows Come Home)  \n",
       "996                     You Got Me Where You Want Me  \n",
       "997                              Friendship (Medley)  \n",
       "998            Get Happy - Happy Days Are Here Again  \n",
       "\n",
       "[999 rows x 3 columns]"
      ]
     },
     "execution_count": 10,
     "metadata": {},
     "output_type": "execute_result"
    }
   ],
   "source": [
    "filename = 'first1000.csv'\n",
    "df = pd.read_csv(filename,quotechar=\"\\\"\")\n",
    "df\n"
   ]
  },
  {
   "cell_type": "markdown",
   "metadata": {},
   "source": [
    "## Attempt at BERT pairwise similarities"
   ]
  },
  {
   "cell_type": "code",
   "execution_count": 11,
   "metadata": {},
   "outputs": [],
   "source": [
    "from sentence_transformers import SentenceTransformer\n",
    "\n",
    "# having difficulty using/installing this library"
   ]
  },
  {
   "cell_type": "code",
   "execution_count": 12,
   "metadata": {},
   "outputs": [
    {
     "data": {
      "text/plain": [
       "array([[ 0.25191036,  1.0241982 ,  1.1173215 , ...,  0.5390153 ,\n",
       "        -0.42572212,  0.2003073 ],\n",
       "       [ 0.4947322 ,  0.4474805 ,  1.4323771 , ...,  0.5739952 ,\n",
       "        -0.13770318, -0.10324322],\n",
       "       [-0.35187936,  0.43566278,  0.4671685 , ..., -0.14879468,\n",
       "        -0.00509799,  0.56485426],\n",
       "       ...,\n",
       "       [-0.33635834,  0.71832365,  1.3847564 , ...,  0.46954286,\n",
       "        -0.23762263,  0.48671138],\n",
       "       [-0.27856562,  0.663303  ,  0.9755634 , ...,  0.7495466 ,\n",
       "        -0.60485005, -0.07856282],\n",
       "       [-0.33587253,  0.89290977,  1.4032168 , ...,  0.6504031 ,\n",
       "        -0.22983734,  0.01936397]], dtype=float32)"
      ]
     },
     "execution_count": 12,
     "metadata": {},
     "output_type": "execute_result"
    }
   ],
   "source": [
    "sbert_model = SentenceTransformer('bert-base-nli-mean-tokens')\n",
    "\n",
    "document_embeddings = sbert_model.encode(df['Lyrics'])\n",
    "document_embeddings"
   ]
  },
  {
   "cell_type": "code",
   "execution_count": 27,
   "metadata": {
    "scrolled": false
   },
   "outputs": [
    {
     "name": "stdout",
     "output_type": "stream",
     "text": [
      "(999, 768)\n",
      "Song: Everyday - Elijah Blake\n",
      "\n",
      "\n",
      "Similar Songs:\n",
      "\n",
      "\n",
      "Similar Song: Fascinating Rhythm - Ella Fitzgerald\n",
      "Cosine Similarity : 0.8106637001037598\n",
      "\n",
      "\n",
      "Similar Song: Fascinating Rhythm [From the Film:  Girl Crazy] - Judy Garland\n",
      "Cosine Similarity : 0.7968353033065796\n",
      "\n",
      "\n",
      "Similar Song: Fascinating Rhythm [Mono Mix][*] - Ella Fitzgerald\n",
      "Cosine Similarity : 0.7901540398597717\n",
      "\n",
      "\n",
      "Similar Song: Everybody Knows - Elizabeth & the Catapult\n",
      "Cosine Similarity : 0.7596976161003113\n",
      "---\n",
      "Song: Everyday - Elijah Blake\n",
      "\n",
      "\n",
      "Similar Songs:\n",
      "\n",
      "\n",
      "Similar Song: Fascinating Rhythm - Ella Fitzgerald\n",
      "Euclidean Distance : 9.550185203552246\n",
      "\n",
      "\n",
      "Similar Song: Fascinating Rhythm [From the Film:  Girl Crazy] - Judy Garland\n",
      "Euclidean Distance : 9.717370986938477\n",
      "\n",
      "\n",
      "Similar Song: Fascinating Rhythm [Mono Mix][*] - Ella Fitzgerald\n",
      "Euclidean Distance : 10.056916236877441\n",
      "\n",
      "\n",
      "Similar Song: Together - Ella Eyre\n",
      "Euclidean Distance : 10.776580810546875\n"
     ]
    }
   ],
   "source": [
    "print(document_embeddings.shape)\n",
    "pairwise_similarities=pairwise.cosine_similarity(document_embeddings)\n",
    "pairwise_differences=pairwise.euclidean_distances(document_embeddings)\n",
    "\n",
    "from sklearn.feature_extraction.text import TfidfVectorizer \n",
    "\n",
    "tfidfvectoriser=TfidfVectorizer()\n",
    "tfidfvectoriser.fit(df.Lyrics)\n",
    "tfidf_vectors=tfidfvectoriser.transform(df.Lyrics)\n",
    "\n",
    "def most_similar(doc_id,similarity_matrix,matrix):\n",
    "    print (f'Song: {df.iloc[doc_id][\"Song\"]} - {df.iloc[doc_id][\"Band\"]}')\n",
    "    print ('\\n')\n",
    "    print ('Similar Songs:')\n",
    "    if matrix=='Cosine Similarity':\n",
    "        similar_ix=np.argsort(similarity_matrix[doc_id])[::-1]\n",
    "    elif matrix=='Euclidean Distance':\n",
    "        similar_ix=np.argsort(similarity_matrix[doc_id])\n",
    "    for ix in similar_ix[:5]:\n",
    "        if ix==doc_id:\n",
    "            continue\n",
    "        print('\\n')\n",
    "        print (f'Similar Song: {df.iloc[ix][\"Song\"]} - {df.iloc[ix][\"Band\"]}')\n",
    "        print (f'{matrix} : {similarity_matrix[doc_id][ix]}')\n",
    "\n",
    "most_similar(0,pairwise_similarities,'Cosine Similarity')\n",
    "print(\"---\")\n",
    "most_similar(0,pairwise_differences,'Euclidean Distance')"
   ]
  },
  {
   "cell_type": "markdown",
   "metadata": {},
   "source": [
    "## Bag of Words"
   ]
  },
  {
   "cell_type": "code",
   "execution_count": null,
   "metadata": {},
   "outputs": [],
   "source": [
    "pairwise_similarities, pairwise_differences "
   ]
  },
  {
   "cell_type": "code",
   "execution_count": null,
   "metadata": {},
   "outputs": [],
   "source": [
    "import nltk\n",
    "from nltk.corpus import stopwords\n",
    "nltk.download('stopwords')\n",
    "nltk.download('punkt')\n",
    "import re\n",
    "from operator import itemgetter\n",
    "\n",
    "# Define dictionary utility function\n",
    " \n",
    "def get_top_values(d,N):\n",
    "    return dict(sorted(d.items(), key = itemgetter(1), reverse = True)[:N])\n",
    "\n",
    "# Preprocess songs\n",
    "\n",
    "\n",
    "# set stop words in english\n",
    "stop_words = set(stopwords.words('english')) \n",
    "\n",
    "# creating  \"master\" dictionary\n",
    "word2count = {}\n",
    "\n",
    "for row in df.index:\n",
    "    song = df['Lyrics'][row]\n",
    "\n",
    "    # remove stopwords and clean up each song\n",
    "    song = song.lower()\n",
    "    song = re.sub(r'\\W', ' ', song)\n",
    "    song = re.sub(r'\\s+', ' ', song)\n",
    "\n",
    "    words = nltk.word_tokenize(song)\n",
    "    for word in words:\n",
    "\n",
    "        if word not in stop_words:\n",
    "\n",
    "            if word not in word2count.keys():\n",
    "                word2count[word] = 1\n",
    "            else:\n",
    "                word2count[word] += 1\n",
    "\n",
    "word2count = get_top_values(word2count,100)\n",
    "\n"
   ]
  },
  {
   "cell_type": "code",
   "execution_count": null,
   "metadata": {},
   "outputs": [],
   "source": []
  }
 ],
 "metadata": {
  "kernelspec": {
   "display_name": "Python 3",
   "language": "python",
   "name": "python3"
  },
  "language_info": {
   "codemirror_mode": {
    "name": "ipython",
    "version": 3
   },
   "file_extension": ".py",
   "mimetype": "text/x-python",
   "name": "python",
   "nbconvert_exporter": "python",
   "pygments_lexer": "ipython3",
   "version": "3.8.5"
  }
 },
 "nbformat": 4,
 "nbformat_minor": 2
}
